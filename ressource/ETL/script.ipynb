{
 "cells": [
  {
   "cell_type": "markdown",
   "id": "78baa126-49e5-41ce-aa95-9c9db7ddb7bf",
   "metadata": {},
   "source": [
    "# Bibliothèque"
   ]
  },
  {
   "cell_type": "code",
   "execution_count": 5,
   "id": "2c142052-8e81-41b3-8865-ac26abbf0809",
   "metadata": {},
   "outputs": [],
   "source": [
    "import pandas as pd"
   ]
  },
  {
   "cell_type": "markdown",
   "id": "38040699-0bb0-42c8-8bca-f4eb228dce25",
   "metadata": {},
   "source": [
    "# Importation des données"
   ]
  },
  {
   "cell_type": "code",
   "execution_count": null,
   "id": "874ac33d-abc0-49cf-93f7-02337c58788f",
   "metadata": {},
   "outputs": [],
   "source": [
    "df = pd.read_csv('../data/data2010-2011s1.csv', encoding=\"unicode_escape\")"
   ]
  },
  {
   "cell_type": "markdown",
   "id": "bcc019a4-2d0a-4a83-a7f7-c8b5563eea1d",
   "metadata": {},
   "source": [
    "# Information sur les des données"
   ]
  },
  {
   "cell_type": "code",
   "execution_count": 12,
   "id": "b2b63510-890b-42b0-9f23-29a3919babb0",
   "metadata": {},
   "outputs": [
    {
     "name": "stdout",
     "output_type": "stream",
     "text": [
      "nombre de ligne   : 245903\n",
      "nombre de colonne : 8\n"
     ]
    }
   ],
   "source": [
    "s = df.shape\n",
    "print(f\"nombre de ligne   : {s[0]}\")\n",
    "print(f\"nombre de colonne : {s[1]}\")"
   ]
  },
  {
   "cell_type": "code",
   "execution_count": 7,
   "id": "128b0484-98c0-4d7b-9f75-7b32017481dd",
   "metadata": {},
   "outputs": [
    {
     "data": {
      "text/html": [
       "<div>\n",
       "<style scoped>\n",
       "    .dataframe tbody tr th:only-of-type {\n",
       "        vertical-align: middle;\n",
       "    }\n",
       "\n",
       "    .dataframe tbody tr th {\n",
       "        vertical-align: top;\n",
       "    }\n",
       "\n",
       "    .dataframe thead th {\n",
       "        text-align: right;\n",
       "    }\n",
       "</style>\n",
       "<table border=\"1\" class=\"dataframe\">\n",
       "  <thead>\n",
       "    <tr style=\"text-align: right;\">\n",
       "      <th></th>\n",
       "      <th>InvoiceNo</th>\n",
       "      <th>StockCode</th>\n",
       "      <th>Description</th>\n",
       "      <th>Quantity</th>\n",
       "      <th>InvoiceDate</th>\n",
       "      <th>UnitPrice</th>\n",
       "      <th>CustomerID</th>\n",
       "      <th>Country</th>\n",
       "    </tr>\n",
       "  </thead>\n",
       "  <tbody>\n",
       "    <tr>\n",
       "      <th>0</th>\n",
       "      <td>536365</td>\n",
       "      <td>85123A</td>\n",
       "      <td>WHITE HANGING HEART T-LIGHT HOLDER</td>\n",
       "      <td>6</td>\n",
       "      <td>12/1/2010 8:26</td>\n",
       "      <td>2.55</td>\n",
       "      <td>17850.0</td>\n",
       "      <td>United Kingdom</td>\n",
       "    </tr>\n",
       "    <tr>\n",
       "      <th>1</th>\n",
       "      <td>536365</td>\n",
       "      <td>71053</td>\n",
       "      <td>WHITE METAL LANTERN</td>\n",
       "      <td>6</td>\n",
       "      <td>12/1/2010 8:26</td>\n",
       "      <td>3.39</td>\n",
       "      <td>17850.0</td>\n",
       "      <td>United Kingdom</td>\n",
       "    </tr>\n",
       "    <tr>\n",
       "      <th>2</th>\n",
       "      <td>536365</td>\n",
       "      <td>84406B</td>\n",
       "      <td>CREAM CUPID HEARTS COAT HANGER</td>\n",
       "      <td>8</td>\n",
       "      <td>12/1/2010 8:26</td>\n",
       "      <td>2.75</td>\n",
       "      <td>17850.0</td>\n",
       "      <td>United Kingdom</td>\n",
       "    </tr>\n",
       "    <tr>\n",
       "      <th>3</th>\n",
       "      <td>536365</td>\n",
       "      <td>84029G</td>\n",
       "      <td>KNITTED UNION FLAG HOT WATER BOTTLE</td>\n",
       "      <td>6</td>\n",
       "      <td>12/1/2010 8:26</td>\n",
       "      <td>3.39</td>\n",
       "      <td>17850.0</td>\n",
       "      <td>United Kingdom</td>\n",
       "    </tr>\n",
       "    <tr>\n",
       "      <th>4</th>\n",
       "      <td>536365</td>\n",
       "      <td>84029E</td>\n",
       "      <td>RED WOOLLY HOTTIE WHITE HEART.</td>\n",
       "      <td>6</td>\n",
       "      <td>12/1/2010 8:26</td>\n",
       "      <td>3.39</td>\n",
       "      <td>17850.0</td>\n",
       "      <td>United Kingdom</td>\n",
       "    </tr>\n",
       "  </tbody>\n",
       "</table>\n",
       "</div>"
      ],
      "text/plain": [
       "  InvoiceNo StockCode                          Description  Quantity  \\\n",
       "0    536365    85123A   WHITE HANGING HEART T-LIGHT HOLDER         6   \n",
       "1    536365     71053                  WHITE METAL LANTERN         6   \n",
       "2    536365    84406B       CREAM CUPID HEARTS COAT HANGER         8   \n",
       "3    536365    84029G  KNITTED UNION FLAG HOT WATER BOTTLE         6   \n",
       "4    536365    84029E       RED WOOLLY HOTTIE WHITE HEART.         6   \n",
       "\n",
       "      InvoiceDate  UnitPrice  CustomerID         Country  \n",
       "0  12/1/2010 8:26       2.55     17850.0  United Kingdom  \n",
       "1  12/1/2010 8:26       3.39     17850.0  United Kingdom  \n",
       "2  12/1/2010 8:26       2.75     17850.0  United Kingdom  \n",
       "3  12/1/2010 8:26       3.39     17850.0  United Kingdom  \n",
       "4  12/1/2010 8:26       3.39     17850.0  United Kingdom  "
      ]
     },
     "execution_count": 7,
     "metadata": {},
     "output_type": "execute_result"
    }
   ],
   "source": [
    "df.head()"
   ]
  },
  {
   "cell_type": "code",
   "execution_count": 32,
   "id": "da306b9d-588d-48c3-b05b-3cd84520f153",
   "metadata": {},
   "outputs": [
    {
     "data": {
      "text/plain": [
       "InvoiceNo       object\n",
       "StockCode       object\n",
       "Description     object\n",
       "Quantity         int64\n",
       "InvoiceDate     object\n",
       "UnitPrice      float64\n",
       "CustomerID      object\n",
       "Country         object\n",
       "dtype: object"
      ]
     },
     "execution_count": 32,
     "metadata": {},
     "output_type": "execute_result"
    }
   ],
   "source": [
    "df.dtypes"
   ]
  },
  {
   "cell_type": "code",
   "execution_count": 55,
   "id": "7235bdb9-d479-4656-aed1-1551ec91194c",
   "metadata": {},
   "outputs": [
    {
     "name": "stdout",
     "output_type": "stream",
     "text": [
      "InvoiceNo: <class 'str'>\n",
      "StockCode: <class 'str'>\n",
      "Description: <class 'str'>\n",
      "Quantity: <class 'numpy.int64'>\n",
      "InvoiceDate: <class 'str'>\n",
      "UnitPrice: <class 'numpy.float64'>\n",
      "CustomerID: <class 'str'>\n",
      "Country: <class 'str'>\n"
     ]
    }
   ],
   "source": [
    "for c, n in zip(range(0, s[1]), df.columns.values):\n",
    "    print(str(n)+\": \" + str(type(df._get_value(0,c, takeable=True))))"
   ]
  },
  {
   "cell_type": "code",
   "execution_count": 46,
   "id": "4da1e848-694b-4e80-a0a3-f5c40b244eeb",
   "metadata": {},
   "outputs": [
    {
     "data": {
      "text/plain": [
       "array(['InvoiceNo', 'StockCode', 'Description', 'Quantity', 'InvoiceDate',\n",
       "       'UnitPrice', 'CustomerID', 'Country'], dtype=object)"
      ]
     },
     "execution_count": 46,
     "metadata": {},
     "output_type": "execute_result"
    }
   ],
   "source": [
    "df.columns.values"
   ]
  },
  {
   "cell_type": "markdown",
   "id": "4050dedf-7c47-4cfe-9559-ce0c8e24248f",
   "metadata": {},
   "source": [
    "# Pays"
   ]
  },
  {
   "cell_type": "markdown",
   "id": "c9111ffc-e72e-49b4-bdeb-d3b54de745c4",
   "metadata": {},
   "source": [
    "## liste des pays du dataset"
   ]
  },
  {
   "cell_type": "code",
   "execution_count": null,
   "id": "f412e69e-9418-45d7-85b5-b2fe055bfbf1",
   "metadata": {},
   "outputs": [
    {
     "data": {
      "text/plain": [
       "array(['United Kingdom', 'France', 'Australia', 'Netherlands', 'Germany',\n",
       "       'Norway', 'EIRE', 'Switzerland', 'Spain', 'Poland', 'Portugal',\n",
       "       'Italy', 'Belgium', 'Lithuania', 'Japan', 'Iceland',\n",
       "       'Channel Islands', 'Denmark', 'Cyprus', 'Sweden', 'Austria',\n",
       "       'Israel', 'Finland', 'Bahrain', 'Greece', 'Hong Kong', 'Singapore',\n",
       "       'Lebanon', 'United Arab Emirates', 'Saudi Arabia',\n",
       "       'Czech Republic', 'Canada', 'Unspecified', 'Brazil', 'USA',\n",
       "       'European Community', 'Malta'], dtype=object)"
      ]
     },
     "execution_count": 6,
     "metadata": {},
     "output_type": "execute_result"
    }
   ],
   "source": [
    "df[\"Country\"].unique()"
   ]
  },
  {
   "cell_type": "markdown",
   "id": "2972d868-94ab-4fe6-969e-0d97937e1283",
   "metadata": {},
   "source": [
    "## unspecified"
   ]
  },
  {
   "cell_type": "code",
   "execution_count": 15,
   "id": "4a82f11e-17e9-49f8-8751-fd64072e6954",
   "metadata": {},
   "outputs": [],
   "source": [
    "unsp = df.loc[df['Country'] == \"Unspecified\"]"
   ]
  },
  {
   "cell_type": "code",
   "execution_count": 16,
   "id": "f95c7c08-8770-458c-a377-c93fa76adcb1",
   "metadata": {},
   "outputs": [
    {
     "data": {
      "text/plain": [
       "83"
      ]
     },
     "execution_count": 16,
     "metadata": {},
     "output_type": "execute_result"
    }
   ],
   "source": [
    "unsp.shape[0]"
   ]
  },
  {
   "cell_type": "code",
   "execution_count": 17,
   "id": "b4a29a4b-b03c-475a-a41a-c3a616d7eb0c",
   "metadata": {},
   "outputs": [
    {
     "data": {
      "text/html": [
       "<div>\n",
       "<style scoped>\n",
       "    .dataframe tbody tr th:only-of-type {\n",
       "        vertical-align: middle;\n",
       "    }\n",
       "\n",
       "    .dataframe tbody tr th {\n",
       "        vertical-align: top;\n",
       "    }\n",
       "\n",
       "    .dataframe thead th {\n",
       "        text-align: right;\n",
       "    }\n",
       "</style>\n",
       "<table border=\"1\" class=\"dataframe\">\n",
       "  <thead>\n",
       "    <tr style=\"text-align: right;\">\n",
       "      <th></th>\n",
       "      <th>InvoiceNo</th>\n",
       "      <th>StockCode</th>\n",
       "      <th>Description</th>\n",
       "      <th>Quantity</th>\n",
       "      <th>InvoiceDate</th>\n",
       "      <th>UnitPrice</th>\n",
       "      <th>CustomerID</th>\n",
       "      <th>Country</th>\n",
       "    </tr>\n",
       "  </thead>\n",
       "  <tbody>\n",
       "    <tr>\n",
       "      <th>152712</th>\n",
       "      <td>549687</td>\n",
       "      <td>20685</td>\n",
       "      <td>DOORMAT RED RETROSPOT</td>\n",
       "      <td>2</td>\n",
       "      <td>4/11/2011 13:29</td>\n",
       "      <td>7.95</td>\n",
       "      <td>12363.0</td>\n",
       "      <td>Unspecified</td>\n",
       "    </tr>\n",
       "    <tr>\n",
       "      <th>152713</th>\n",
       "      <td>549687</td>\n",
       "      <td>22691</td>\n",
       "      <td>DOORMAT WELCOME SUNRISE</td>\n",
       "      <td>2</td>\n",
       "      <td>4/11/2011 13:29</td>\n",
       "      <td>7.95</td>\n",
       "      <td>12363.0</td>\n",
       "      <td>Unspecified</td>\n",
       "    </tr>\n",
       "    <tr>\n",
       "      <th>152714</th>\n",
       "      <td>549687</td>\n",
       "      <td>48116</td>\n",
       "      <td>DOORMAT MULTICOLOUR STRIPE</td>\n",
       "      <td>2</td>\n",
       "      <td>4/11/2011 13:29</td>\n",
       "      <td>7.95</td>\n",
       "      <td>12363.0</td>\n",
       "      <td>Unspecified</td>\n",
       "    </tr>\n",
       "    <tr>\n",
       "      <th>152715</th>\n",
       "      <td>549687</td>\n",
       "      <td>21213</td>\n",
       "      <td>PACK OF 72 SKULL CAKE CASES</td>\n",
       "      <td>24</td>\n",
       "      <td>4/11/2011 13:29</td>\n",
       "      <td>0.55</td>\n",
       "      <td>12363.0</td>\n",
       "      <td>Unspecified</td>\n",
       "    </tr>\n",
       "    <tr>\n",
       "      <th>152716</th>\n",
       "      <td>549687</td>\n",
       "      <td>21977</td>\n",
       "      <td>PACK OF 60 PINK PAISLEY CAKE CASES</td>\n",
       "      <td>24</td>\n",
       "      <td>4/11/2011 13:29</td>\n",
       "      <td>0.55</td>\n",
       "      <td>12363.0</td>\n",
       "      <td>Unspecified</td>\n",
       "    </tr>\n",
       "  </tbody>\n",
       "</table>\n",
       "</div>"
      ],
      "text/plain": [
       "       InvoiceNo StockCode                         Description  Quantity  \\\n",
       "152712    549687     20685               DOORMAT RED RETROSPOT         2   \n",
       "152713    549687     22691             DOORMAT WELCOME SUNRISE         2   \n",
       "152714    549687     48116          DOORMAT MULTICOLOUR STRIPE         2   \n",
       "152715    549687     21213         PACK OF 72 SKULL CAKE CASES        24   \n",
       "152716    549687     21977  PACK OF 60 PINK PAISLEY CAKE CASES        24   \n",
       "\n",
       "            InvoiceDate  UnitPrice  CustomerID      Country  \n",
       "152712  4/11/2011 13:29       7.95     12363.0  Unspecified  \n",
       "152713  4/11/2011 13:29       7.95     12363.0  Unspecified  \n",
       "152714  4/11/2011 13:29       7.95     12363.0  Unspecified  \n",
       "152715  4/11/2011 13:29       0.55     12363.0  Unspecified  \n",
       "152716  4/11/2011 13:29       0.55     12363.0  Unspecified  "
      ]
     },
     "execution_count": 17,
     "metadata": {},
     "output_type": "execute_result"
    }
   ],
   "source": [
    "unsp.head()"
   ]
  },
  {
   "cell_type": "markdown",
   "id": "42cb758c-b7d9-4ec4-9f32-eb8e30689f25",
   "metadata": {},
   "source": [
    "# CustomerID"
   ]
  },
  {
   "cell_type": "markdown",
   "id": "e705dee0-4b0f-4d8f-b99a-eaca3fa740a4",
   "metadata": {},
   "source": [
    "## Cast column to str"
   ]
  },
  {
   "cell_type": "code",
   "execution_count": 22,
   "id": "544715bc-8801-4568-81e8-ad236a24386e",
   "metadata": {},
   "outputs": [
    {
     "data": {
      "text/plain": [
       "numpy.float64"
      ]
     },
     "execution_count": 22,
     "metadata": {},
     "output_type": "execute_result"
    }
   ],
   "source": [
    "type(df['CustomerID'][0])"
   ]
  },
  {
   "cell_type": "code",
   "execution_count": 65,
   "id": "8303d2f7-2ef2-47f4-963d-e0de77fbd9f8",
   "metadata": {},
   "outputs": [
    {
     "data": {
      "text/plain": [
       "'17850.0'"
      ]
     },
     "execution_count": 65,
     "metadata": {},
     "output_type": "execute_result"
    }
   ],
   "source": [
    "df[\"CustomerID\"] = df[\"CustomerID\"].map(str)\n",
    "type(df['CustomerID'][0])\n",
    "df['CustomerID'][0]"
   ]
  },
  {
   "cell_type": "markdown",
   "id": "6d474437-9d57-4f24-a6c3-69e7838e57b0",
   "metadata": {},
   "source": [
    "## Teste de conformité"
   ]
  },
  {
   "cell_type": "code",
   "execution_count": 64,
   "id": "94660e4a-47ba-4dd1-b79b-db8efd6d0367",
   "metadata": {},
   "outputs": [
    {
     "data": {
      "text/html": [
       "<div>\n",
       "<style scoped>\n",
       "    .dataframe tbody tr th:only-of-type {\n",
       "        vertical-align: middle;\n",
       "    }\n",
       "\n",
       "    .dataframe tbody tr th {\n",
       "        vertical-align: top;\n",
       "    }\n",
       "\n",
       "    .dataframe thead th {\n",
       "        text-align: right;\n",
       "    }\n",
       "</style>\n",
       "<table border=\"1\" class=\"dataframe\">\n",
       "  <thead>\n",
       "    <tr style=\"text-align: right;\">\n",
       "      <th></th>\n",
       "      <th>InvoiceNo</th>\n",
       "      <th>StockCode</th>\n",
       "      <th>Description</th>\n",
       "      <th>Quantity</th>\n",
       "      <th>InvoiceDate</th>\n",
       "      <th>UnitPrice</th>\n",
       "      <th>CustomerID</th>\n",
       "      <th>Country</th>\n",
       "    </tr>\n",
       "  </thead>\n",
       "  <tbody>\n",
       "    <tr>\n",
       "      <th>0</th>\n",
       "      <td>536365</td>\n",
       "      <td>85123A</td>\n",
       "      <td>WHITE HANGING HEART T-LIGHT HOLDER</td>\n",
       "      <td>6</td>\n",
       "      <td>12/1/2010 8:26</td>\n",
       "      <td>2.55</td>\n",
       "      <td>17850.0</td>\n",
       "      <td>United Kingdom</td>\n",
       "    </tr>\n",
       "    <tr>\n",
       "      <th>1</th>\n",
       "      <td>536365</td>\n",
       "      <td>71053</td>\n",
       "      <td>WHITE METAL LANTERN</td>\n",
       "      <td>6</td>\n",
       "      <td>12/1/2010 8:26</td>\n",
       "      <td>3.39</td>\n",
       "      <td>17850.0</td>\n",
       "      <td>United Kingdom</td>\n",
       "    </tr>\n",
       "    <tr>\n",
       "      <th>2</th>\n",
       "      <td>536365</td>\n",
       "      <td>84406B</td>\n",
       "      <td>CREAM CUPID HEARTS COAT HANGER</td>\n",
       "      <td>8</td>\n",
       "      <td>12/1/2010 8:26</td>\n",
       "      <td>2.75</td>\n",
       "      <td>17850.0</td>\n",
       "      <td>United Kingdom</td>\n",
       "    </tr>\n",
       "    <tr>\n",
       "      <th>3</th>\n",
       "      <td>536365</td>\n",
       "      <td>84029G</td>\n",
       "      <td>KNITTED UNION FLAG HOT WATER BOTTLE</td>\n",
       "      <td>6</td>\n",
       "      <td>12/1/2010 8:26</td>\n",
       "      <td>3.39</td>\n",
       "      <td>17850.0</td>\n",
       "      <td>United Kingdom</td>\n",
       "    </tr>\n",
       "    <tr>\n",
       "      <th>4</th>\n",
       "      <td>536365</td>\n",
       "      <td>84029E</td>\n",
       "      <td>RED WOOLLY HOTTIE WHITE HEART.</td>\n",
       "      <td>6</td>\n",
       "      <td>12/1/2010 8:26</td>\n",
       "      <td>3.39</td>\n",
       "      <td>17850.0</td>\n",
       "      <td>United Kingdom</td>\n",
       "    </tr>\n",
       "    <tr>\n",
       "      <th>...</th>\n",
       "      <td>...</td>\n",
       "      <td>...</td>\n",
       "      <td>...</td>\n",
       "      <td>...</td>\n",
       "      <td>...</td>\n",
       "      <td>...</td>\n",
       "      <td>...</td>\n",
       "      <td>...</td>\n",
       "    </tr>\n",
       "    <tr>\n",
       "      <th>245898</th>\n",
       "      <td>558637</td>\n",
       "      <td>22032</td>\n",
       "      <td>BOTANICAL LILY GREETING CARD</td>\n",
       "      <td>12</td>\n",
       "      <td>6/30/2011 20:08</td>\n",
       "      <td>0.42</td>\n",
       "      <td>17891.0</td>\n",
       "      <td>United Kingdom</td>\n",
       "    </tr>\n",
       "    <tr>\n",
       "      <th>245899</th>\n",
       "      <td>558637</td>\n",
       "      <td>22028</td>\n",
       "      <td>PENNY FARTHING BIRTHDAY CARD</td>\n",
       "      <td>12</td>\n",
       "      <td>6/30/2011 20:08</td>\n",
       "      <td>0.42</td>\n",
       "      <td>17891.0</td>\n",
       "      <td>United Kingdom</td>\n",
       "    </tr>\n",
       "    <tr>\n",
       "      <th>245900</th>\n",
       "      <td>558637</td>\n",
       "      <td>22033</td>\n",
       "      <td>BOTANICAL ROSE GREETING CARD</td>\n",
       "      <td>12</td>\n",
       "      <td>6/30/2011 20:08</td>\n",
       "      <td>0.42</td>\n",
       "      <td>17891.0</td>\n",
       "      <td>United Kingdom</td>\n",
       "    </tr>\n",
       "    <tr>\n",
       "      <th>245901</th>\n",
       "      <td>558637</td>\n",
       "      <td>22029</td>\n",
       "      <td>SPACEBOY BIRTHDAY CARD</td>\n",
       "      <td>12</td>\n",
       "      <td>6/30/2011 20:08</td>\n",
       "      <td>0.42</td>\n",
       "      <td>17891.0</td>\n",
       "      <td>United Kingdom</td>\n",
       "    </tr>\n",
       "    <tr>\n",
       "      <th>245902</th>\n",
       "      <td>558637</td>\n",
       "      <td>22024</td>\n",
       "      <td>RAINY LADIES BIRTHDAY CARD</td>\n",
       "      <td>12</td>\n",
       "      <td>6/30/2011 20:08</td>\n",
       "      <td>0.42</td>\n",
       "      <td>17891.0</td>\n",
       "      <td>United Kingdom</td>\n",
       "    </tr>\n",
       "  </tbody>\n",
       "</table>\n",
       "<p>245903 rows × 8 columns</p>\n",
       "</div>"
      ],
      "text/plain": [
       "       InvoiceNo StockCode                          Description  Quantity  \\\n",
       "0         536365    85123A   WHITE HANGING HEART T-LIGHT HOLDER         6   \n",
       "1         536365     71053                  WHITE METAL LANTERN         6   \n",
       "2         536365    84406B       CREAM CUPID HEARTS COAT HANGER         8   \n",
       "3         536365    84029G  KNITTED UNION FLAG HOT WATER BOTTLE         6   \n",
       "4         536365    84029E       RED WOOLLY HOTTIE WHITE HEART.         6   \n",
       "...          ...       ...                                  ...       ...   \n",
       "245898    558637     22032         BOTANICAL LILY GREETING CARD        12   \n",
       "245899    558637     22028         PENNY FARTHING BIRTHDAY CARD        12   \n",
       "245900    558637     22033         BOTANICAL ROSE GREETING CARD        12   \n",
       "245901    558637     22029               SPACEBOY BIRTHDAY CARD        12   \n",
       "245902    558637     22024           RAINY LADIES BIRTHDAY CARD        12   \n",
       "\n",
       "            InvoiceDate  UnitPrice CustomerID         Country  \n",
       "0        12/1/2010 8:26       2.55    17850.0  United Kingdom  \n",
       "1        12/1/2010 8:26       3.39    17850.0  United Kingdom  \n",
       "2        12/1/2010 8:26       2.75    17850.0  United Kingdom  \n",
       "3        12/1/2010 8:26       3.39    17850.0  United Kingdom  \n",
       "4        12/1/2010 8:26       3.39    17850.0  United Kingdom  \n",
       "...                 ...        ...        ...             ...  \n",
       "245898  6/30/2011 20:08       0.42    17891.0  United Kingdom  \n",
       "245899  6/30/2011 20:08       0.42    17891.0  United Kingdom  \n",
       "245900  6/30/2011 20:08       0.42    17891.0  United Kingdom  \n",
       "245901  6/30/2011 20:08       0.42    17891.0  United Kingdom  \n",
       "245902  6/30/2011 20:08       0.42    17891.0  United Kingdom  \n",
       "\n",
       "[245903 rows x 8 columns]"
      ]
     },
     "execution_count": 64,
     "metadata": {},
     "output_type": "execute_result"
    }
   ],
   "source": [
    "df[df['CustomerID'].str.match(\"^\\d{5}$\") == False]"
   ]
  },
  {
   "cell_type": "code",
   "execution_count": 63,
   "id": "bcc81ebe-af1b-4cfd-a8f4-13ce1a91ce58",
   "metadata": {},
   "outputs": [
    {
     "data": {
      "text/plain": [
       "0         False\n",
       "1         False\n",
       "2         False\n",
       "3         False\n",
       "4         False\n",
       "          ...  \n",
       "245898    False\n",
       "245899    False\n",
       "245900    False\n",
       "245901    False\n",
       "245902    False\n",
       "Name: CustomerID, Length: 245903, dtype: bool"
      ]
     },
     "execution_count": 63,
     "metadata": {},
     "output_type": "execute_result"
    }
   ],
   "source": [
    "(testCID == True).shape[0]"
   ]
  },
  {
   "cell_type": "markdown",
   "id": "1ef93adc-0b18-48b4-a96c-4f176f75b4cc",
   "metadata": {},
   "source": [
    "# UnitPrice"
   ]
  },
  {
   "cell_type": "code",
   "execution_count": 58,
   "id": "77c8186f-886b-419e-b133-6049ad6f9833",
   "metadata": {},
   "outputs": [
    {
     "data": {
      "text/plain": [
       "0         False\n",
       "1         False\n",
       "2         False\n",
       "3         False\n",
       "4         False\n",
       "          ...  \n",
       "245898    False\n",
       "245899    False\n",
       "245900    False\n",
       "245901    False\n",
       "245902    False\n",
       "Name: UnitPrice, Length: 245903, dtype: bool"
      ]
     },
     "execution_count": 58,
     "metadata": {},
     "output_type": "execute_result"
    }
   ],
   "source": [
    "df[\"UnitPrice\"] < 0"
   ]
  },
  {
   "cell_type": "code",
   "execution_count": null,
   "id": "9fa8199a-91a4-4c10-a5a6-43f149efdd79",
   "metadata": {},
   "outputs": [],
   "source": []
  }
 ],
 "metadata": {
  "kernelspec": {
   "display_name": "Python 3 (ipykernel)",
   "language": "python",
   "name": "python3"
  },
  "language_info": {
   "codemirror_mode": {
    "name": "ipython",
    "version": 3
   },
   "file_extension": ".py",
   "mimetype": "text/x-python",
   "name": "python",
   "nbconvert_exporter": "python",
   "pygments_lexer": "ipython3",
   "version": "3.8.10"
  }
 },
 "nbformat": 4,
 "nbformat_minor": 5
}
