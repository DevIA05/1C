{
 "cells": [
  {
   "cell_type": "markdown",
   "id": "78baa126-49e5-41ce-aa95-9c9db7ddb7bf",
   "metadata": {},
   "source": [
    "# Bibliothèque"
   ]
  },
  {
   "cell_type": "code",
   "execution_count": 79,
   "id": "2c142052-8e81-41b3-8865-ac26abbf0809",
   "metadata": {},
   "outputs": [],
   "source": [
    "import pandas as pd"
   ]
  },
  {
   "cell_type": "markdown",
   "id": "38040699-0bb0-42c8-8bca-f4eb228dce25",
   "metadata": {
    "tags": []
   },
   "source": [
    "# Importation des données"
   ]
  },
  {
   "cell_type": "code",
   "execution_count": 80,
   "id": "874ac33d-abc0-49cf-93f7-02337c58788f",
   "metadata": {},
   "outputs": [],
   "source": [
    "df = pd.read_csv('../data/data2010-2011s1.csv', encoding=\"unicode_escape\")\n",
    "cdf = df.copy()"
   ]
  },
  {
   "cell_type": "markdown",
   "id": "bcc019a4-2d0a-4a83-a7f7-c8b5563eea1d",
   "metadata": {
    "tags": []
   },
   "source": [
    "# Information sur les des données"
   ]
  },
  {
   "cell_type": "code",
   "execution_count": 81,
   "id": "b2b63510-890b-42b0-9f23-29a3919babb0",
   "metadata": {},
   "outputs": [
    {
     "name": "stdout",
     "output_type": "stream",
     "text": [
      "nombre de ligne   : 245903\n",
      "nombre de colonne : 8\n"
     ]
    }
   ],
   "source": [
    "s = df.shape\n",
    "print(f\"nombre de ligne   : {s[0]}\")\n",
    "print(f\"nombre de colonne : {s[1]}\")"
   ]
  },
  {
   "cell_type": "code",
   "execution_count": 82,
   "id": "128b0484-98c0-4d7b-9f75-7b32017481dd",
   "metadata": {},
   "outputs": [
    {
     "data": {
      "text/html": [
       "<div>\n",
       "<style scoped>\n",
       "    .dataframe tbody tr th:only-of-type {\n",
       "        vertical-align: middle;\n",
       "    }\n",
       "\n",
       "    .dataframe tbody tr th {\n",
       "        vertical-align: top;\n",
       "    }\n",
       "\n",
       "    .dataframe thead th {\n",
       "        text-align: right;\n",
       "    }\n",
       "</style>\n",
       "<table border=\"1\" class=\"dataframe\">\n",
       "  <thead>\n",
       "    <tr style=\"text-align: right;\">\n",
       "      <th></th>\n",
       "      <th>InvoiceNo</th>\n",
       "      <th>StockCode</th>\n",
       "      <th>Description</th>\n",
       "      <th>Quantity</th>\n",
       "      <th>InvoiceDate</th>\n",
       "      <th>UnitPrice</th>\n",
       "      <th>CustomerID</th>\n",
       "      <th>Country</th>\n",
       "    </tr>\n",
       "  </thead>\n",
       "  <tbody>\n",
       "    <tr>\n",
       "      <th>0</th>\n",
       "      <td>536365</td>\n",
       "      <td>85123A</td>\n",
       "      <td>WHITE HANGING HEART T-LIGHT HOLDER</td>\n",
       "      <td>6</td>\n",
       "      <td>12/1/2010 8:26</td>\n",
       "      <td>2.55</td>\n",
       "      <td>17850.0</td>\n",
       "      <td>United Kingdom</td>\n",
       "    </tr>\n",
       "    <tr>\n",
       "      <th>1</th>\n",
       "      <td>536365</td>\n",
       "      <td>71053</td>\n",
       "      <td>WHITE METAL LANTERN</td>\n",
       "      <td>6</td>\n",
       "      <td>12/1/2010 8:26</td>\n",
       "      <td>3.39</td>\n",
       "      <td>17850.0</td>\n",
       "      <td>United Kingdom</td>\n",
       "    </tr>\n",
       "    <tr>\n",
       "      <th>2</th>\n",
       "      <td>536365</td>\n",
       "      <td>84406B</td>\n",
       "      <td>CREAM CUPID HEARTS COAT HANGER</td>\n",
       "      <td>8</td>\n",
       "      <td>12/1/2010 8:26</td>\n",
       "      <td>2.75</td>\n",
       "      <td>17850.0</td>\n",
       "      <td>United Kingdom</td>\n",
       "    </tr>\n",
       "    <tr>\n",
       "      <th>3</th>\n",
       "      <td>536365</td>\n",
       "      <td>84029G</td>\n",
       "      <td>KNITTED UNION FLAG HOT WATER BOTTLE</td>\n",
       "      <td>6</td>\n",
       "      <td>12/1/2010 8:26</td>\n",
       "      <td>3.39</td>\n",
       "      <td>17850.0</td>\n",
       "      <td>United Kingdom</td>\n",
       "    </tr>\n",
       "    <tr>\n",
       "      <th>4</th>\n",
       "      <td>536365</td>\n",
       "      <td>84029E</td>\n",
       "      <td>RED WOOLLY HOTTIE WHITE HEART.</td>\n",
       "      <td>6</td>\n",
       "      <td>12/1/2010 8:26</td>\n",
       "      <td>3.39</td>\n",
       "      <td>17850.0</td>\n",
       "      <td>United Kingdom</td>\n",
       "    </tr>\n",
       "  </tbody>\n",
       "</table>\n",
       "</div>"
      ],
      "text/plain": [
       "  InvoiceNo StockCode                          Description  Quantity  \\\n",
       "0    536365    85123A   WHITE HANGING HEART T-LIGHT HOLDER         6   \n",
       "1    536365     71053                  WHITE METAL LANTERN         6   \n",
       "2    536365    84406B       CREAM CUPID HEARTS COAT HANGER         8   \n",
       "3    536365    84029G  KNITTED UNION FLAG HOT WATER BOTTLE         6   \n",
       "4    536365    84029E       RED WOOLLY HOTTIE WHITE HEART.         6   \n",
       "\n",
       "      InvoiceDate  UnitPrice  CustomerID         Country  \n",
       "0  12/1/2010 8:26       2.55     17850.0  United Kingdom  \n",
       "1  12/1/2010 8:26       3.39     17850.0  United Kingdom  \n",
       "2  12/1/2010 8:26       2.75     17850.0  United Kingdom  \n",
       "3  12/1/2010 8:26       3.39     17850.0  United Kingdom  \n",
       "4  12/1/2010 8:26       3.39     17850.0  United Kingdom  "
      ]
     },
     "execution_count": 82,
     "metadata": {},
     "output_type": "execute_result"
    }
   ],
   "source": [
    "df.head()"
   ]
  },
  {
   "cell_type": "code",
   "execution_count": 83,
   "id": "da306b9d-588d-48c3-b05b-3cd84520f153",
   "metadata": {},
   "outputs": [
    {
     "data": {
      "text/plain": [
       "InvoiceNo       object\n",
       "StockCode       object\n",
       "Description     object\n",
       "Quantity         int64\n",
       "InvoiceDate     object\n",
       "UnitPrice      float64\n",
       "CustomerID     float64\n",
       "Country         object\n",
       "dtype: object"
      ]
     },
     "execution_count": 83,
     "metadata": {},
     "output_type": "execute_result"
    }
   ],
   "source": [
    "df.dtypes"
   ]
  },
  {
   "cell_type": "code",
   "execution_count": 84,
   "id": "7235bdb9-d479-4656-aed1-1551ec91194c",
   "metadata": {},
   "outputs": [
    {
     "name": "stdout",
     "output_type": "stream",
     "text": [
      "InvoiceNo: <class 'str'>\n",
      "StockCode: <class 'str'>\n",
      "Description: <class 'str'>\n",
      "Quantity: <class 'numpy.int64'>\n",
      "InvoiceDate: <class 'str'>\n",
      "UnitPrice: <class 'numpy.float64'>\n",
      "CustomerID: <class 'numpy.float64'>\n",
      "Country: <class 'str'>\n"
     ]
    }
   ],
   "source": [
    "for c, n in zip(range(0, s[1]), df.columns.values):\n",
    "    print(str(n)+\": \" + str(type(df._get_value(0,c, takeable=True))))"
   ]
  },
  {
   "cell_type": "code",
   "execution_count": 85,
   "id": "4da1e848-694b-4e80-a0a3-f5c40b244eeb",
   "metadata": {},
   "outputs": [
    {
     "data": {
      "text/plain": [
       "array(['InvoiceNo', 'StockCode', 'Description', 'Quantity', 'InvoiceDate',\n",
       "       'UnitPrice', 'CustomerID', 'Country'], dtype=object)"
      ]
     },
     "execution_count": 85,
     "metadata": {},
     "output_type": "execute_result"
    }
   ],
   "source": [
    "df.columns.values"
   ]
  },
  {
   "cell_type": "markdown",
   "id": "29c54ca7-a409-485f-9623-f6e7207fafd1",
   "metadata": {},
   "source": [
    "# Sauvegarde des données mise de côté"
   ]
  },
  {
   "cell_type": "code",
   "execution_count": 86,
   "id": "bb3cc952-e987-4568-8ea4-ee28d2d9ebf9",
   "metadata": {},
   "outputs": [],
   "source": [
    "err = pd.DataFrame() # Met les erreurs dans un tableau\n",
    "countErr = {}        # Comptabilise les erreurs "
   ]
  },
  {
   "cell_type": "markdown",
   "id": "4050dedf-7c47-4cfe-9559-ce0c8e24248f",
   "metadata": {
    "tags": []
   },
   "source": [
    "# Pays"
   ]
  },
  {
   "cell_type": "markdown",
   "id": "c9111ffc-e72e-49b4-bdeb-d3b54de745c4",
   "metadata": {
    "tags": []
   },
   "source": [
    "## liste des pays du dataset"
   ]
  },
  {
   "cell_type": "code",
   "execution_count": 87,
   "id": "f412e69e-9418-45d7-85b5-b2fe055bfbf1",
   "metadata": {},
   "outputs": [
    {
     "name": "stdout",
     "output_type": "stream",
     "text": [
      "['United Kingdom' 'France' 'Australia' 'Netherlands' 'Germany' 'Norway'\n",
      " 'EIRE' 'Switzerland' 'Spain' 'Poland' 'Portugal' 'Italy' 'Belgium'\n",
      " 'Lithuania' 'Japan' 'Iceland' 'Channel Islands' 'Denmark' 'Cyprus'\n",
      " 'Sweden' 'Austria' 'Israel' 'Finland' 'Bahrain' 'Greece' 'Hong Kong'\n",
      " 'Singapore' 'Lebanon' 'United Arab Emirates' 'Saudi Arabia'\n",
      " 'Czech Republic' 'Canada' 'Unspecified' 'Brazil' 'USA'\n",
      " 'European Community' 'Malta']\n",
      "(37,)\n"
     ]
    }
   ],
   "source": [
    "print(df[\"Country\"].unique())\n",
    "print(df[\"Country\"].unique().shape)"
   ]
  },
  {
   "cell_type": "markdown",
   "id": "2972d868-94ab-4fe6-969e-0d97937e1283",
   "metadata": {},
   "source": [
    "## unspecified"
   ]
  },
  {
   "cell_type": "code",
   "execution_count": 88,
   "id": "4a82f11e-17e9-49f8-8751-fd64072e6954",
   "metadata": {},
   "outputs": [],
   "source": [
    "errCountry = df.loc[df['Country'] == \"Unspecified\"]"
   ]
  },
  {
   "cell_type": "code",
   "execution_count": 89,
   "id": "f95c7c08-8770-458c-a377-c93fa76adcb1",
   "metadata": {},
   "outputs": [
    {
     "data": {
      "text/plain": [
       "83"
      ]
     },
     "execution_count": 89,
     "metadata": {},
     "output_type": "execute_result"
    }
   ],
   "source": [
    "errCountry.shape[0]"
   ]
  },
  {
   "cell_type": "code",
   "execution_count": 90,
   "id": "b4a29a4b-b03c-475a-a41a-c3a616d7eb0c",
   "metadata": {},
   "outputs": [
    {
     "data": {
      "text/html": [
       "<div>\n",
       "<style scoped>\n",
       "    .dataframe tbody tr th:only-of-type {\n",
       "        vertical-align: middle;\n",
       "    }\n",
       "\n",
       "    .dataframe tbody tr th {\n",
       "        vertical-align: top;\n",
       "    }\n",
       "\n",
       "    .dataframe thead th {\n",
       "        text-align: right;\n",
       "    }\n",
       "</style>\n",
       "<table border=\"1\" class=\"dataframe\">\n",
       "  <thead>\n",
       "    <tr style=\"text-align: right;\">\n",
       "      <th></th>\n",
       "      <th>InvoiceNo</th>\n",
       "      <th>StockCode</th>\n",
       "      <th>Description</th>\n",
       "      <th>Quantity</th>\n",
       "      <th>InvoiceDate</th>\n",
       "      <th>UnitPrice</th>\n",
       "      <th>CustomerID</th>\n",
       "      <th>Country</th>\n",
       "    </tr>\n",
       "  </thead>\n",
       "  <tbody>\n",
       "    <tr>\n",
       "      <th>152712</th>\n",
       "      <td>549687</td>\n",
       "      <td>20685</td>\n",
       "      <td>DOORMAT RED RETROSPOT</td>\n",
       "      <td>2</td>\n",
       "      <td>4/11/2011 13:29</td>\n",
       "      <td>7.95</td>\n",
       "      <td>12363.0</td>\n",
       "      <td>Unspecified</td>\n",
       "    </tr>\n",
       "    <tr>\n",
       "      <th>152713</th>\n",
       "      <td>549687</td>\n",
       "      <td>22691</td>\n",
       "      <td>DOORMAT WELCOME SUNRISE</td>\n",
       "      <td>2</td>\n",
       "      <td>4/11/2011 13:29</td>\n",
       "      <td>7.95</td>\n",
       "      <td>12363.0</td>\n",
       "      <td>Unspecified</td>\n",
       "    </tr>\n",
       "    <tr>\n",
       "      <th>152714</th>\n",
       "      <td>549687</td>\n",
       "      <td>48116</td>\n",
       "      <td>DOORMAT MULTICOLOUR STRIPE</td>\n",
       "      <td>2</td>\n",
       "      <td>4/11/2011 13:29</td>\n",
       "      <td>7.95</td>\n",
       "      <td>12363.0</td>\n",
       "      <td>Unspecified</td>\n",
       "    </tr>\n",
       "    <tr>\n",
       "      <th>152715</th>\n",
       "      <td>549687</td>\n",
       "      <td>21213</td>\n",
       "      <td>PACK OF 72 SKULL CAKE CASES</td>\n",
       "      <td>24</td>\n",
       "      <td>4/11/2011 13:29</td>\n",
       "      <td>0.55</td>\n",
       "      <td>12363.0</td>\n",
       "      <td>Unspecified</td>\n",
       "    </tr>\n",
       "    <tr>\n",
       "      <th>152716</th>\n",
       "      <td>549687</td>\n",
       "      <td>21977</td>\n",
       "      <td>PACK OF 60 PINK PAISLEY CAKE CASES</td>\n",
       "      <td>24</td>\n",
       "      <td>4/11/2011 13:29</td>\n",
       "      <td>0.55</td>\n",
       "      <td>12363.0</td>\n",
       "      <td>Unspecified</td>\n",
       "    </tr>\n",
       "  </tbody>\n",
       "</table>\n",
       "</div>"
      ],
      "text/plain": [
       "       InvoiceNo StockCode                         Description  Quantity  \\\n",
       "152712    549687     20685               DOORMAT RED RETROSPOT         2   \n",
       "152713    549687     22691             DOORMAT WELCOME SUNRISE         2   \n",
       "152714    549687     48116          DOORMAT MULTICOLOUR STRIPE         2   \n",
       "152715    549687     21213         PACK OF 72 SKULL CAKE CASES        24   \n",
       "152716    549687     21977  PACK OF 60 PINK PAISLEY CAKE CASES        24   \n",
       "\n",
       "            InvoiceDate  UnitPrice  CustomerID      Country  \n",
       "152712  4/11/2011 13:29       7.95     12363.0  Unspecified  \n",
       "152713  4/11/2011 13:29       7.95     12363.0  Unspecified  \n",
       "152714  4/11/2011 13:29       7.95     12363.0  Unspecified  \n",
       "152715  4/11/2011 13:29       0.55     12363.0  Unspecified  \n",
       "152716  4/11/2011 13:29       0.55     12363.0  Unspecified  "
      ]
     },
     "execution_count": 90,
     "metadata": {},
     "output_type": "execute_result"
    }
   ],
   "source": [
    "errCountry.head()"
   ]
  },
  {
   "cell_type": "code",
   "execution_count": 91,
   "id": "2fbd3621-e4c0-4ff3-a274-2db74a4fa208",
   "metadata": {},
   "outputs": [],
   "source": [
    "err = pd.concat([err, errCountry])\n",
    "countErr[\"Pays\"] = errCountry.shape[0] + (0 if countErr.get('Pays')==None else countErr.get('Pays'))"
   ]
  },
  {
   "cell_type": "markdown",
   "id": "a4781df8-ec46-4d82-bb52-a861bd061f85",
   "metadata": {},
   "source": [
    "## None"
   ]
  },
  {
   "cell_type": "code",
   "execution_count": 92,
   "id": "0b0ced1f-43cb-4b4e-bffc-ab96c67e8cca",
   "metadata": {},
   "outputs": [],
   "source": [
    "errCountry = cdf.loc[cdf[\"Country\"]==None]"
   ]
  },
  {
   "cell_type": "code",
   "execution_count": 93,
   "id": "5c2ca958-2157-4841-a46b-6b1ae6437219",
   "metadata": {},
   "outputs": [
    {
     "data": {
      "text/plain": [
       "(0, 8)"
      ]
     },
     "execution_count": 93,
     "metadata": {},
     "output_type": "execute_result"
    }
   ],
   "source": [
    "errCountry.shape"
   ]
  },
  {
   "cell_type": "code",
   "execution_count": 94,
   "id": "10a426ed-7ecb-4109-8c73-e557c91b0e9e",
   "metadata": {},
   "outputs": [],
   "source": [
    "err = pd.concat([err, errCountry])\n",
    "countErr[\"Pays\"] = errCountry.shape[0] + (0 if countErr.get('Pays')==None else countErr.get('Pays'))"
   ]
  },
  {
   "cell_type": "code",
   "execution_count": 96,
   "id": "645743d0-8319-48a0-a787-07c53d57a2ec",
   "metadata": {},
   "outputs": [
    {
     "name": "stdout",
     "output_type": "stream",
     "text": [
      "       InvoiceNo StockCode                         Description  Quantity  \\\n",
      "152712    549687     20685               DOORMAT RED RETROSPOT         2   \n",
      "152713    549687     22691             DOORMAT WELCOME SUNRISE         2   \n",
      "152714    549687     48116          DOORMAT MULTICOLOUR STRIPE         2   \n",
      "152715    549687     21213         PACK OF 72 SKULL CAKE CASES        24   \n",
      "152716    549687     21977  PACK OF 60 PINK PAISLEY CAKE CASES        24   \n",
      "\n",
      "            InvoiceDate  UnitPrice  CustomerID      Country  \n",
      "152712  4/11/2011 13:29       7.95     12363.0  Unspecified  \n",
      "152713  4/11/2011 13:29       7.95     12363.0  Unspecified  \n",
      "152714  4/11/2011 13:29       7.95     12363.0  Unspecified  \n",
      "152715  4/11/2011 13:29       0.55     12363.0  Unspecified  \n",
      "152716  4/11/2011 13:29       0.55     12363.0  Unspecified  \n"
     ]
    },
    {
     "data": {
      "text/plain": [
       "{'Pays': 83}"
      ]
     },
     "execution_count": 96,
     "metadata": {},
     "output_type": "execute_result"
    }
   ],
   "source": [
    "print(err.head())\n",
    "countErr"
   ]
  },
  {
   "cell_type": "markdown",
   "id": "42cb758c-b7d9-4ec4-9f32-eb8e30689f25",
   "metadata": {
    "jp-MarkdownHeadingCollapsed": true,
    "tags": []
   },
   "source": [
    "# CustomerID"
   ]
  },
  {
   "cell_type": "markdown",
   "id": "e705dee0-4b0f-4d8f-b99a-eaca3fa740a4",
   "metadata": {},
   "source": [
    "## Cast column to str"
   ]
  },
  {
   "cell_type": "markdown",
   "id": "109e11db-f7d0-46b8-a954-b69888cd5c62",
   "metadata": {},
   "source": [
    "Il faut vérifier qu'il n'y est pas de décimal autre que 0  \n",
    "Puis retirer la décimal"
   ]
  },
  {
   "cell_type": "code",
   "execution_count": 97,
   "id": "8303d2f7-2ef2-47f4-963d-e0de77fbd9f8",
   "metadata": {},
   "outputs": [
    {
     "data": {
      "text/plain": [
       "'17850.0'"
      ]
     },
     "execution_count": 97,
     "metadata": {},
     "output_type": "execute_result"
    }
   ],
   "source": [
    "cdf[\"CustomerID\"] = df[\"CustomerID\"].astype(str) #.replace('\\.\\d+', '', regex=True)\n",
    "type(df['CustomerID'][0])\n",
    "cdf['CustomerID'][0]"
   ]
  },
  {
   "cell_type": "code",
   "execution_count": 107,
   "id": "9fc9a22c-880d-4b6a-a947-bdfbf7e128ba",
   "metadata": {},
   "outputs": [],
   "source": [
    "errCID = cdf[cdf['CustomerID'].str.match(\"\\.[1-9]\") == True]"
   ]
  },
  {
   "cell_type": "code",
   "execution_count": 108,
   "id": "c11175ec-2196-401c-bdaa-b21e2ab743ed",
   "metadata": {},
   "outputs": [],
   "source": [
    "err = pd.concat([err, errCID])\n",
    "countErr[\"CustomerID\"] = errCID.shape[0] + (0 if countErr.get('CustomerID')==None else countErr.get('CustomerID'))"
   ]
  },
  {
   "cell_type": "code",
   "execution_count": 110,
   "id": "c3f80f80-ed43-4dea-a6bd-5990fe8da0c4",
   "metadata": {},
   "outputs": [],
   "source": [
    "cdf[\"CustomerID\"] = df[\"CustomerID\"].astype(str).replace('\\.\\d+', '', regex=True)"
   ]
  },
  {
   "cell_type": "code",
   "execution_count": 111,
   "id": "5817d42a-32a6-49d1-be1c-aa7b4b0173b0",
   "metadata": {},
   "outputs": [
    {
     "name": "stdout",
     "output_type": "stream",
     "text": [
      "       InvoiceNo StockCode                         Description  Quantity  \\\n",
      "152712    549687     20685               DOORMAT RED RETROSPOT         2   \n",
      "152713    549687     22691             DOORMAT WELCOME SUNRISE         2   \n",
      "152714    549687     48116          DOORMAT MULTICOLOUR STRIPE         2   \n",
      "152715    549687     21213         PACK OF 72 SKULL CAKE CASES        24   \n",
      "152716    549687     21977  PACK OF 60 PINK PAISLEY CAKE CASES        24   \n",
      "\n",
      "            InvoiceDate  UnitPrice  CustomerID      Country  \n",
      "152712  4/11/2011 13:29       7.95     12363.0  Unspecified  \n",
      "152713  4/11/2011 13:29       7.95     12363.0  Unspecified  \n",
      "152714  4/11/2011 13:29       7.95     12363.0  Unspecified  \n",
      "152715  4/11/2011 13:29       0.55     12363.0  Unspecified  \n",
      "152716  4/11/2011 13:29       0.55     12363.0  Unspecified  \n"
     ]
    },
    {
     "data": {
      "text/plain": [
       "{'Pays': 83, 'CustomerID': 0}"
      ]
     },
     "execution_count": 111,
     "metadata": {},
     "output_type": "execute_result"
    }
   ],
   "source": [
    "print(err.head())\n",
    "countErr"
   ]
  },
  {
   "cell_type": "markdown",
   "id": "6d474437-9d57-4f24-a6c3-69e7838e57b0",
   "metadata": {},
   "source": [
    "## Teste de conformité"
   ]
  },
  {
   "cell_type": "code",
   "execution_count": 35,
   "id": "94660e4a-47ba-4dd1-b79b-db8efd6d0367",
   "metadata": {},
   "outputs": [
    {
     "data": {
      "text/html": [
       "<div>\n",
       "<style scoped>\n",
       "    .dataframe tbody tr th:only-of-type {\n",
       "        vertical-align: middle;\n",
       "    }\n",
       "\n",
       "    .dataframe tbody tr th {\n",
       "        vertical-align: top;\n",
       "    }\n",
       "\n",
       "    .dataframe thead th {\n",
       "        text-align: right;\n",
       "    }\n",
       "</style>\n",
       "<table border=\"1\" class=\"dataframe\">\n",
       "  <thead>\n",
       "    <tr style=\"text-align: right;\">\n",
       "      <th></th>\n",
       "      <th>InvoiceNo</th>\n",
       "      <th>StockCode</th>\n",
       "      <th>Description</th>\n",
       "      <th>Quantity</th>\n",
       "      <th>InvoiceDate</th>\n",
       "      <th>UnitPrice</th>\n",
       "      <th>CustomerID</th>\n",
       "      <th>Country</th>\n",
       "    </tr>\n",
       "  </thead>\n",
       "  <tbody>\n",
       "    <tr>\n",
       "      <th>622</th>\n",
       "      <td>536414</td>\n",
       "      <td>22139</td>\n",
       "      <td>NaN</td>\n",
       "      <td>56</td>\n",
       "      <td>12/1/2010 11:52</td>\n",
       "      <td>0.00</td>\n",
       "      <td>nan</td>\n",
       "      <td>United Kingdom</td>\n",
       "    </tr>\n",
       "    <tr>\n",
       "      <th>1443</th>\n",
       "      <td>536544</td>\n",
       "      <td>21773</td>\n",
       "      <td>DECORATIVE ROSE BATHROOM BOTTLE</td>\n",
       "      <td>1</td>\n",
       "      <td>12/1/2010 14:32</td>\n",
       "      <td>2.51</td>\n",
       "      <td>nan</td>\n",
       "      <td>United Kingdom</td>\n",
       "    </tr>\n",
       "    <tr>\n",
       "      <th>1444</th>\n",
       "      <td>536544</td>\n",
       "      <td>21774</td>\n",
       "      <td>DECORATIVE CATS BATHROOM BOTTLE</td>\n",
       "      <td>2</td>\n",
       "      <td>12/1/2010 14:32</td>\n",
       "      <td>2.51</td>\n",
       "      <td>nan</td>\n",
       "      <td>United Kingdom</td>\n",
       "    </tr>\n",
       "    <tr>\n",
       "      <th>1445</th>\n",
       "      <td>536544</td>\n",
       "      <td>21786</td>\n",
       "      <td>POLKADOT RAIN HAT</td>\n",
       "      <td>4</td>\n",
       "      <td>12/1/2010 14:32</td>\n",
       "      <td>0.85</td>\n",
       "      <td>nan</td>\n",
       "      <td>United Kingdom</td>\n",
       "    </tr>\n",
       "    <tr>\n",
       "      <th>1446</th>\n",
       "      <td>536544</td>\n",
       "      <td>21787</td>\n",
       "      <td>RAIN PONCHO RETROSPOT</td>\n",
       "      <td>2</td>\n",
       "      <td>12/1/2010 14:32</td>\n",
       "      <td>1.66</td>\n",
       "      <td>nan</td>\n",
       "      <td>United Kingdom</td>\n",
       "    </tr>\n",
       "  </tbody>\n",
       "</table>\n",
       "</div>"
      ],
      "text/plain": [
       "     InvoiceNo StockCode                      Description  Quantity  \\\n",
       "622     536414     22139                              NaN        56   \n",
       "1443    536544     21773  DECORATIVE ROSE BATHROOM BOTTLE         1   \n",
       "1444    536544     21774  DECORATIVE CATS BATHROOM BOTTLE         2   \n",
       "1445    536544     21786               POLKADOT RAIN HAT          4   \n",
       "1446    536544     21787            RAIN PONCHO RETROSPOT         2   \n",
       "\n",
       "          InvoiceDate  UnitPrice CustomerID         Country  \n",
       "622   12/1/2010 11:52       0.00        nan  United Kingdom  \n",
       "1443  12/1/2010 14:32       2.51        nan  United Kingdom  \n",
       "1444  12/1/2010 14:32       2.51        nan  United Kingdom  \n",
       "1445  12/1/2010 14:32       0.85        nan  United Kingdom  \n",
       "1446  12/1/2010 14:32       1.66        nan  United Kingdom  "
      ]
     },
     "execution_count": 35,
     "metadata": {},
     "output_type": "execute_result"
    }
   ],
   "source": [
    "cdf[cdf['CustomerID'].str.match(\"^\\d{5}$\") == False].head()"
   ]
  },
  {
   "cell_type": "markdown",
   "id": "1ef93adc-0b18-48b4-a96c-4f176f75b4cc",
   "metadata": {
    "jp-MarkdownHeadingCollapsed": true,
    "tags": []
   },
   "source": [
    "# UnitPrice"
   ]
  },
  {
   "cell_type": "markdown",
   "id": "227a0213-d5b0-4fe4-8f8e-57947a9a49a3",
   "metadata": {},
   "source": [
    "Vérifier s'il y a des valeurs négatifs"
   ]
  },
  {
   "cell_type": "code",
   "execution_count": 37,
   "id": "77c8186f-886b-419e-b133-6049ad6f9833",
   "metadata": {},
   "outputs": [
    {
     "data": {
      "text/html": [
       "<div>\n",
       "<style scoped>\n",
       "    .dataframe tbody tr th:only-of-type {\n",
       "        vertical-align: middle;\n",
       "    }\n",
       "\n",
       "    .dataframe tbody tr th {\n",
       "        vertical-align: top;\n",
       "    }\n",
       "\n",
       "    .dataframe thead th {\n",
       "        text-align: right;\n",
       "    }\n",
       "</style>\n",
       "<table border=\"1\" class=\"dataframe\">\n",
       "  <thead>\n",
       "    <tr style=\"text-align: right;\">\n",
       "      <th></th>\n",
       "      <th>InvoiceNo</th>\n",
       "      <th>StockCode</th>\n",
       "      <th>Description</th>\n",
       "      <th>Quantity</th>\n",
       "      <th>InvoiceDate</th>\n",
       "      <th>UnitPrice</th>\n",
       "      <th>CustomerID</th>\n",
       "      <th>Country</th>\n",
       "    </tr>\n",
       "  </thead>\n",
       "  <tbody>\n",
       "  </tbody>\n",
       "</table>\n",
       "</div>"
      ],
      "text/plain": [
       "Empty DataFrame\n",
       "Columns: [InvoiceNo, StockCode, Description, Quantity, InvoiceDate, UnitPrice, CustomerID, Country]\n",
       "Index: []"
      ]
     },
     "execution_count": 37,
     "metadata": {},
     "output_type": "execute_result"
    }
   ],
   "source": [
    "cdf[cdf[\"UnitPrice\"] < 0]"
   ]
  },
  {
   "cell_type": "markdown",
   "id": "0cd13996-4a59-40bc-a357-a4f4ee32b9c4",
   "metadata": {
    "jp-MarkdownHeadingCollapsed": true,
    "tags": []
   },
   "source": [
    "# InvoiceDate"
   ]
  },
  {
   "cell_type": "code",
   "execution_count": 44,
   "id": "4ed2034e-dc5d-4f97-a0bc-df9f424fc25c",
   "metadata": {},
   "outputs": [],
   "source": [
    "date_pattern = \"^([0]{0,1}[1-9]|1[012])\\/([1-9]|([012][0-9])|(3[01]))\\/((\\d\\d\\d\\d)|(\\d\\d)) [012]{0,1}[0-9]:[0-6][0-9]$\""
   ]
  },
  {
   "cell_type": "code",
   "execution_count": 48,
   "id": "08a555e2-8ec6-4477-8810-280683d4c692",
   "metadata": {},
   "outputs": [
    {
     "data": {
      "text/html": [
       "<div>\n",
       "<style scoped>\n",
       "    .dataframe tbody tr th:only-of-type {\n",
       "        vertical-align: middle;\n",
       "    }\n",
       "\n",
       "    .dataframe tbody tr th {\n",
       "        vertical-align: top;\n",
       "    }\n",
       "\n",
       "    .dataframe thead th {\n",
       "        text-align: right;\n",
       "    }\n",
       "</style>\n",
       "<table border=\"1\" class=\"dataframe\">\n",
       "  <thead>\n",
       "    <tr style=\"text-align: right;\">\n",
       "      <th></th>\n",
       "      <th>InvoiceNo</th>\n",
       "      <th>StockCode</th>\n",
       "      <th>Description</th>\n",
       "      <th>Quantity</th>\n",
       "      <th>InvoiceDate</th>\n",
       "      <th>UnitPrice</th>\n",
       "      <th>CustomerID</th>\n",
       "      <th>Country</th>\n",
       "    </tr>\n",
       "  </thead>\n",
       "  <tbody>\n",
       "  </tbody>\n",
       "</table>\n",
       "</div>"
      ],
      "text/plain": [
       "Empty DataFrame\n",
       "Columns: [InvoiceNo, StockCode, Description, Quantity, InvoiceDate, UnitPrice, CustomerID, Country]\n",
       "Index: []"
      ]
     },
     "execution_count": 48,
     "metadata": {},
     "output_type": "execute_result"
    }
   ],
   "source": [
    "cdf[cdf['InvoiceDate'].str.match(date_pattern) == False].head()"
   ]
  },
  {
   "cell_type": "code",
   "execution_count": 49,
   "id": "bb235727-3c1e-4349-a473-359326acf26f",
   "metadata": {},
   "outputs": [
    {
     "data": {
      "text/plain": [
       "(0, 8)"
      ]
     },
     "execution_count": 49,
     "metadata": {},
     "output_type": "execute_result"
    }
   ],
   "source": [
    "cdf[cdf['InvoiceDate'].str.match(date_pattern) == False].shape"
   ]
  },
  {
   "cell_type": "markdown",
   "id": "422e9546-6ceb-40e8-89b4-db69d246d8a9",
   "metadata": {
    "jp-MarkdownHeadingCollapsed": true,
    "tags": []
   },
   "source": [
    "# Quantity"
   ]
  },
  {
   "cell_type": "code",
   "execution_count": 50,
   "id": "2fa7980c-763f-46d1-b058-3824abc1167d",
   "metadata": {},
   "outputs": [
    {
     "data": {
      "text/html": [
       "<div>\n",
       "<style scoped>\n",
       "    .dataframe tbody tr th:only-of-type {\n",
       "        vertical-align: middle;\n",
       "    }\n",
       "\n",
       "    .dataframe tbody tr th {\n",
       "        vertical-align: top;\n",
       "    }\n",
       "\n",
       "    .dataframe thead th {\n",
       "        text-align: right;\n",
       "    }\n",
       "</style>\n",
       "<table border=\"1\" class=\"dataframe\">\n",
       "  <thead>\n",
       "    <tr style=\"text-align: right;\">\n",
       "      <th></th>\n",
       "      <th>InvoiceNo</th>\n",
       "      <th>StockCode</th>\n",
       "      <th>Description</th>\n",
       "      <th>Quantity</th>\n",
       "      <th>InvoiceDate</th>\n",
       "      <th>UnitPrice</th>\n",
       "      <th>CustomerID</th>\n",
       "      <th>Country</th>\n",
       "    </tr>\n",
       "  </thead>\n",
       "  <tbody>\n",
       "    <tr>\n",
       "      <th>141</th>\n",
       "      <td>C536379</td>\n",
       "      <td>D</td>\n",
       "      <td>Discount</td>\n",
       "      <td>-1</td>\n",
       "      <td>12/1/2010 9:41</td>\n",
       "      <td>27.50</td>\n",
       "      <td>14527</td>\n",
       "      <td>United Kingdom</td>\n",
       "    </tr>\n",
       "    <tr>\n",
       "      <th>154</th>\n",
       "      <td>C536383</td>\n",
       "      <td>35004C</td>\n",
       "      <td>SET OF 3 COLOURED  FLYING DUCKS</td>\n",
       "      <td>-1</td>\n",
       "      <td>12/1/2010 9:49</td>\n",
       "      <td>4.65</td>\n",
       "      <td>15311</td>\n",
       "      <td>United Kingdom</td>\n",
       "    </tr>\n",
       "    <tr>\n",
       "      <th>235</th>\n",
       "      <td>C536391</td>\n",
       "      <td>22556</td>\n",
       "      <td>PLASTERS IN TIN CIRCUS PARADE</td>\n",
       "      <td>-12</td>\n",
       "      <td>12/1/2010 10:24</td>\n",
       "      <td>1.65</td>\n",
       "      <td>17548</td>\n",
       "      <td>United Kingdom</td>\n",
       "    </tr>\n",
       "    <tr>\n",
       "      <th>236</th>\n",
       "      <td>C536391</td>\n",
       "      <td>21984</td>\n",
       "      <td>PACK OF 12 PINK PAISLEY TISSUES</td>\n",
       "      <td>-24</td>\n",
       "      <td>12/1/2010 10:24</td>\n",
       "      <td>0.29</td>\n",
       "      <td>17548</td>\n",
       "      <td>United Kingdom</td>\n",
       "    </tr>\n",
       "    <tr>\n",
       "      <th>237</th>\n",
       "      <td>C536391</td>\n",
       "      <td>21983</td>\n",
       "      <td>PACK OF 12 BLUE PAISLEY TISSUES</td>\n",
       "      <td>-24</td>\n",
       "      <td>12/1/2010 10:24</td>\n",
       "      <td>0.29</td>\n",
       "      <td>17548</td>\n",
       "      <td>United Kingdom</td>\n",
       "    </tr>\n",
       "  </tbody>\n",
       "</table>\n",
       "</div>"
      ],
      "text/plain": [
       "    InvoiceNo StockCode                       Description  Quantity  \\\n",
       "141   C536379         D                          Discount        -1   \n",
       "154   C536383    35004C   SET OF 3 COLOURED  FLYING DUCKS        -1   \n",
       "235   C536391     22556    PLASTERS IN TIN CIRCUS PARADE        -12   \n",
       "236   C536391     21984  PACK OF 12 PINK PAISLEY TISSUES        -24   \n",
       "237   C536391     21983  PACK OF 12 BLUE PAISLEY TISSUES        -24   \n",
       "\n",
       "         InvoiceDate  UnitPrice CustomerID         Country  \n",
       "141   12/1/2010 9:41      27.50      14527  United Kingdom  \n",
       "154   12/1/2010 9:49       4.65      15311  United Kingdom  \n",
       "235  12/1/2010 10:24       1.65      17548  United Kingdom  \n",
       "236  12/1/2010 10:24       0.29      17548  United Kingdom  \n",
       "237  12/1/2010 10:24       0.29      17548  United Kingdom  "
      ]
     },
     "execution_count": 50,
     "metadata": {},
     "output_type": "execute_result"
    }
   ],
   "source": [
    "cdf[cdf[\"Quantity\"]<0].head()"
   ]
  },
  {
   "cell_type": "code",
   "execution_count": 51,
   "id": "0df8d78a-c807-462a-bfb1-22e76fec82f9",
   "metadata": {},
   "outputs": [
    {
     "data": {
      "text/html": [
       "<div>\n",
       "<style scoped>\n",
       "    .dataframe tbody tr th:only-of-type {\n",
       "        vertical-align: middle;\n",
       "    }\n",
       "\n",
       "    .dataframe tbody tr th {\n",
       "        vertical-align: top;\n",
       "    }\n",
       "\n",
       "    .dataframe thead th {\n",
       "        text-align: right;\n",
       "    }\n",
       "</style>\n",
       "<table border=\"1\" class=\"dataframe\">\n",
       "  <thead>\n",
       "    <tr style=\"text-align: right;\">\n",
       "      <th></th>\n",
       "      <th>InvoiceNo</th>\n",
       "      <th>StockCode</th>\n",
       "      <th>Description</th>\n",
       "      <th>Quantity</th>\n",
       "      <th>InvoiceDate</th>\n",
       "      <th>UnitPrice</th>\n",
       "      <th>CustomerID</th>\n",
       "      <th>Country</th>\n",
       "    </tr>\n",
       "  </thead>\n",
       "  <tbody>\n",
       "    <tr>\n",
       "      <th>141</th>\n",
       "      <td>C536379</td>\n",
       "      <td>D</td>\n",
       "      <td>Discount</td>\n",
       "      <td>-1</td>\n",
       "      <td>12/1/2010 9:41</td>\n",
       "      <td>27.50</td>\n",
       "      <td>14527</td>\n",
       "      <td>United Kingdom</td>\n",
       "    </tr>\n",
       "    <tr>\n",
       "      <th>9038</th>\n",
       "      <td>C537164</td>\n",
       "      <td>D</td>\n",
       "      <td>Discount</td>\n",
       "      <td>-1</td>\n",
       "      <td>12/5/2010 13:21</td>\n",
       "      <td>29.29</td>\n",
       "      <td>14527</td>\n",
       "      <td>United Kingdom</td>\n",
       "    </tr>\n",
       "    <tr>\n",
       "      <th>14498</th>\n",
       "      <td>C537597</td>\n",
       "      <td>D</td>\n",
       "      <td>Discount</td>\n",
       "      <td>-1</td>\n",
       "      <td>12/7/2010 12:34</td>\n",
       "      <td>281.00</td>\n",
       "      <td>15498</td>\n",
       "      <td>United Kingdom</td>\n",
       "    </tr>\n",
       "    <tr>\n",
       "      <th>19392</th>\n",
       "      <td>C537857</td>\n",
       "      <td>D</td>\n",
       "      <td>Discount</td>\n",
       "      <td>-1</td>\n",
       "      <td>12/8/2010 16:00</td>\n",
       "      <td>267.12</td>\n",
       "      <td>17340</td>\n",
       "      <td>United Kingdom</td>\n",
       "    </tr>\n",
       "    <tr>\n",
       "      <th>31134</th>\n",
       "      <td>C538897</td>\n",
       "      <td>D</td>\n",
       "      <td>Discount</td>\n",
       "      <td>-1</td>\n",
       "      <td>12/15/2010 9:14</td>\n",
       "      <td>5.76</td>\n",
       "      <td>16422</td>\n",
       "      <td>United Kingdom</td>\n",
       "    </tr>\n",
       "    <tr>\n",
       "      <th>31135</th>\n",
       "      <td>C538897</td>\n",
       "      <td>D</td>\n",
       "      <td>Discount</td>\n",
       "      <td>-1</td>\n",
       "      <td>12/15/2010 9:14</td>\n",
       "      <td>42.50</td>\n",
       "      <td>16422</td>\n",
       "      <td>United Kingdom</td>\n",
       "    </tr>\n",
       "    <tr>\n",
       "      <th>31663</th>\n",
       "      <td>C539003</td>\n",
       "      <td>D</td>\n",
       "      <td>Discount</td>\n",
       "      <td>-1</td>\n",
       "      <td>12/15/2010 12:35</td>\n",
       "      <td>26.93</td>\n",
       "      <td>14527</td>\n",
       "      <td>United Kingdom</td>\n",
       "    </tr>\n",
       "    <tr>\n",
       "      <th>38609</th>\n",
       "      <td>C539589</td>\n",
       "      <td>D</td>\n",
       "      <td>Discount</td>\n",
       "      <td>-1</td>\n",
       "      <td>12/20/2010 13:14</td>\n",
       "      <td>13.88</td>\n",
       "      <td>14527</td>\n",
       "      <td>United Kingdom</td>\n",
       "    </tr>\n",
       "    <tr>\n",
       "      <th>44405</th>\n",
       "      <td>C540171</td>\n",
       "      <td>D</td>\n",
       "      <td>Discount</td>\n",
       "      <td>-1</td>\n",
       "      <td>1/5/2011 12:26</td>\n",
       "      <td>22.97</td>\n",
       "      <td>14527</td>\n",
       "      <td>United Kingdom</td>\n",
       "    </tr>\n",
       "    <tr>\n",
       "      <th>88032</th>\n",
       "      <td>C543752</td>\n",
       "      <td>D</td>\n",
       "      <td>Discount</td>\n",
       "      <td>-1</td>\n",
       "      <td>2/11/2011 14:12</td>\n",
       "      <td>64.27</td>\n",
       "      <td>14031</td>\n",
       "      <td>United Kingdom</td>\n",
       "    </tr>\n",
       "    <tr>\n",
       "      <th>88071</th>\n",
       "      <td>C543758</td>\n",
       "      <td>D</td>\n",
       "      <td>Discount</td>\n",
       "      <td>-1</td>\n",
       "      <td>2/11/2011 15:07</td>\n",
       "      <td>65.91</td>\n",
       "      <td>15299</td>\n",
       "      <td>United Kingdom</td>\n",
       "    </tr>\n",
       "    <tr>\n",
       "      <th>88211</th>\n",
       "      <td>C543789</td>\n",
       "      <td>D</td>\n",
       "      <td>Discount</td>\n",
       "      <td>-1</td>\n",
       "      <td>2/11/2011 17:10</td>\n",
       "      <td>84.80</td>\n",
       "      <td>17450</td>\n",
       "      <td>United Kingdom</td>\n",
       "    </tr>\n",
       "    <tr>\n",
       "      <th>89282</th>\n",
       "      <td>C543840</td>\n",
       "      <td>D</td>\n",
       "      <td>Discount</td>\n",
       "      <td>-1</td>\n",
       "      <td>2/14/2011 11:19</td>\n",
       "      <td>70.01</td>\n",
       "      <td>14527</td>\n",
       "      <td>United Kingdom</td>\n",
       "    </tr>\n",
       "    <tr>\n",
       "      <th>108071</th>\n",
       "      <td>C545476</td>\n",
       "      <td>D</td>\n",
       "      <td>Discount</td>\n",
       "      <td>-1</td>\n",
       "      <td>3/3/2011 11:05</td>\n",
       "      <td>30.38</td>\n",
       "      <td>14527</td>\n",
       "      <td>United Kingdom</td>\n",
       "    </tr>\n",
       "    <tr>\n",
       "      <th>108088</th>\n",
       "      <td>C545478</td>\n",
       "      <td>D</td>\n",
       "      <td>Discount</td>\n",
       "      <td>-720</td>\n",
       "      <td>3/3/2011 11:08</td>\n",
       "      <td>0.01</td>\n",
       "      <td>16422</td>\n",
       "      <td>United Kingdom</td>\n",
       "    </tr>\n",
       "    <tr>\n",
       "      <th>115091</th>\n",
       "      <td>C546106</td>\n",
       "      <td>D</td>\n",
       "      <td>Discount</td>\n",
       "      <td>-1</td>\n",
       "      <td>3/9/2011 12:21</td>\n",
       "      <td>9.87</td>\n",
       "      <td>14527</td>\n",
       "      <td>United Kingdom</td>\n",
       "    </tr>\n",
       "    <tr>\n",
       "      <th>140555</th>\n",
       "      <td>C548411</td>\n",
       "      <td>D</td>\n",
       "      <td>Discount</td>\n",
       "      <td>-1</td>\n",
       "      <td>3/31/2011 10:36</td>\n",
       "      <td>162.24</td>\n",
       "      <td>13316</td>\n",
       "      <td>United Kingdom</td>\n",
       "    </tr>\n",
       "    <tr>\n",
       "      <th>140795</th>\n",
       "      <td>C548462</td>\n",
       "      <td>D</td>\n",
       "      <td>Discount</td>\n",
       "      <td>-1</td>\n",
       "      <td>3/31/2011 12:11</td>\n",
       "      <td>14.52</td>\n",
       "      <td>14527</td>\n",
       "      <td>United Kingdom</td>\n",
       "    </tr>\n",
       "    <tr>\n",
       "      <th>150591</th>\n",
       "      <td>C549452</td>\n",
       "      <td>D</td>\n",
       "      <td>Discount</td>\n",
       "      <td>-1</td>\n",
       "      <td>4/8/2011 14:17</td>\n",
       "      <td>1867.86</td>\n",
       "      <td>17940</td>\n",
       "      <td>United Kingdom</td>\n",
       "    </tr>\n",
       "    <tr>\n",
       "      <th>169541</th>\n",
       "      <td>C551190</td>\n",
       "      <td>D</td>\n",
       "      <td>Discount</td>\n",
       "      <td>-1</td>\n",
       "      <td>4/27/2011 10:22</td>\n",
       "      <td>120.00</td>\n",
       "      <td>17940</td>\n",
       "      <td>United Kingdom</td>\n",
       "    </tr>\n",
       "    <tr>\n",
       "      <th>169834</th>\n",
       "      <td>C551265</td>\n",
       "      <td>D</td>\n",
       "      <td>Discount</td>\n",
       "      <td>-1</td>\n",
       "      <td>4/27/2011 12:06</td>\n",
       "      <td>11.76</td>\n",
       "      <td>14527</td>\n",
       "      <td>United Kingdom</td>\n",
       "    </tr>\n",
       "    <tr>\n",
       "      <th>181009</th>\n",
       "      <td>C552423</td>\n",
       "      <td>D</td>\n",
       "      <td>Discount</td>\n",
       "      <td>-1</td>\n",
       "      <td>5/9/2011 12:44</td>\n",
       "      <td>11.84</td>\n",
       "      <td>14527</td>\n",
       "      <td>United Kingdom</td>\n",
       "    </tr>\n",
       "    <tr>\n",
       "      <th>182729</th>\n",
       "      <td>C552569</td>\n",
       "      <td>D</td>\n",
       "      <td>Discount</td>\n",
       "      <td>-240</td>\n",
       "      <td>5/10/2011 12:06</td>\n",
       "      <td>0.03</td>\n",
       "      <td>12901</td>\n",
       "      <td>United Kingdom</td>\n",
       "    </tr>\n",
       "    <tr>\n",
       "      <th>183138</th>\n",
       "      <td>C552650</td>\n",
       "      <td>D</td>\n",
       "      <td>Discount</td>\n",
       "      <td>-18</td>\n",
       "      <td>5/10/2011 14:03</td>\n",
       "      <td>1.45</td>\n",
       "      <td>16672</td>\n",
       "      <td>United Kingdom</td>\n",
       "    </tr>\n",
       "    <tr>\n",
       "      <th>192807</th>\n",
       "      <td>C553482</td>\n",
       "      <td>D</td>\n",
       "      <td>Discount</td>\n",
       "      <td>-1</td>\n",
       "      <td>5/17/2011 12:07</td>\n",
       "      <td>9.84</td>\n",
       "      <td>14527</td>\n",
       "      <td>United Kingdom</td>\n",
       "    </tr>\n",
       "    <tr>\n",
       "      <th>194727</th>\n",
       "      <td>C553665</td>\n",
       "      <td>D</td>\n",
       "      <td>Discount</td>\n",
       "      <td>-1</td>\n",
       "      <td>5/18/2011 12:16</td>\n",
       "      <td>15.96</td>\n",
       "      <td>14527</td>\n",
       "      <td>United Kingdom</td>\n",
       "    </tr>\n",
       "    <tr>\n",
       "      <th>196362</th>\n",
       "      <td>C553841</td>\n",
       "      <td>D</td>\n",
       "      <td>Discount</td>\n",
       "      <td>-48</td>\n",
       "      <td>5/19/2011 12:19</td>\n",
       "      <td>0.20</td>\n",
       "      <td>16029</td>\n",
       "      <td>United Kingdom</td>\n",
       "    </tr>\n",
       "    <tr>\n",
       "      <th>203526</th>\n",
       "      <td>C554516</td>\n",
       "      <td>D</td>\n",
       "      <td>Discount</td>\n",
       "      <td>-1</td>\n",
       "      <td>5/24/2011 16:50</td>\n",
       "      <td>13.88</td>\n",
       "      <td>14527</td>\n",
       "      <td>United Kingdom</td>\n",
       "    </tr>\n",
       "    <tr>\n",
       "      <th>214671</th>\n",
       "      <td>C555597</td>\n",
       "      <td>D</td>\n",
       "      <td>Discount</td>\n",
       "      <td>-1</td>\n",
       "      <td>6/6/2011 10:19</td>\n",
       "      <td>42.00</td>\n",
       "      <td>15796</td>\n",
       "      <td>United Kingdom</td>\n",
       "    </tr>\n",
       "    <tr>\n",
       "      <th>218253</th>\n",
       "      <td>C556037</td>\n",
       "      <td>D</td>\n",
       "      <td>Discount</td>\n",
       "      <td>-1</td>\n",
       "      <td>6/8/2011 12:37</td>\n",
       "      <td>20.92</td>\n",
       "      <td>14527</td>\n",
       "      <td>United Kingdom</td>\n",
       "    </tr>\n",
       "    <tr>\n",
       "      <th>221712</th>\n",
       "      <td>C556265</td>\n",
       "      <td>D</td>\n",
       "      <td>Discount</td>\n",
       "      <td>-1</td>\n",
       "      <td>6/9/2011 19:24</td>\n",
       "      <td>28.04</td>\n",
       "      <td>16684</td>\n",
       "      <td>United Kingdom</td>\n",
       "    </tr>\n",
       "    <tr>\n",
       "      <th>226396</th>\n",
       "      <td>C556796</td>\n",
       "      <td>D</td>\n",
       "      <td>Discount</td>\n",
       "      <td>-96</td>\n",
       "      <td>6/14/2011 14:40</td>\n",
       "      <td>0.70</td>\n",
       "      <td>16013</td>\n",
       "      <td>United Kingdom</td>\n",
       "    </tr>\n",
       "    <tr>\n",
       "      <th>227481</th>\n",
       "      <td>C556877</td>\n",
       "      <td>D</td>\n",
       "      <td>Discount</td>\n",
       "      <td>-1</td>\n",
       "      <td>6/15/2011 12:00</td>\n",
       "      <td>129.90</td>\n",
       "      <td>15498</td>\n",
       "      <td>United Kingdom</td>\n",
       "    </tr>\n",
       "    <tr>\n",
       "      <th>227705</th>\n",
       "      <td>C556904</td>\n",
       "      <td>D</td>\n",
       "      <td>Discount</td>\n",
       "      <td>-1</td>\n",
       "      <td>6/15/2011 12:56</td>\n",
       "      <td>14.42</td>\n",
       "      <td>14527</td>\n",
       "      <td>United Kingdom</td>\n",
       "    </tr>\n",
       "    <tr>\n",
       "      <th>238153</th>\n",
       "      <td>C557927</td>\n",
       "      <td>D</td>\n",
       "      <td>Discount</td>\n",
       "      <td>-1</td>\n",
       "      <td>6/23/2011 14:56</td>\n",
       "      <td>10.00</td>\n",
       "      <td>16029</td>\n",
       "      <td>United Kingdom</td>\n",
       "    </tr>\n",
       "  </tbody>\n",
       "</table>\n",
       "</div>"
      ],
      "text/plain": [
       "       InvoiceNo StockCode Description  Quantity       InvoiceDate  UnitPrice  \\\n",
       "141      C536379         D    Discount        -1    12/1/2010 9:41      27.50   \n",
       "9038     C537164         D    Discount        -1   12/5/2010 13:21      29.29   \n",
       "14498    C537597         D    Discount        -1   12/7/2010 12:34     281.00   \n",
       "19392    C537857         D    Discount        -1   12/8/2010 16:00     267.12   \n",
       "31134    C538897         D    Discount        -1   12/15/2010 9:14       5.76   \n",
       "31135    C538897         D    Discount        -1   12/15/2010 9:14      42.50   \n",
       "31663    C539003         D    Discount        -1  12/15/2010 12:35      26.93   \n",
       "38609    C539589         D    Discount        -1  12/20/2010 13:14      13.88   \n",
       "44405    C540171         D    Discount        -1    1/5/2011 12:26      22.97   \n",
       "88032    C543752         D    Discount        -1   2/11/2011 14:12      64.27   \n",
       "88071    C543758         D    Discount        -1   2/11/2011 15:07      65.91   \n",
       "88211    C543789         D    Discount        -1   2/11/2011 17:10      84.80   \n",
       "89282    C543840         D    Discount        -1   2/14/2011 11:19      70.01   \n",
       "108071   C545476         D    Discount        -1    3/3/2011 11:05      30.38   \n",
       "108088   C545478         D    Discount      -720    3/3/2011 11:08       0.01   \n",
       "115091   C546106         D    Discount        -1    3/9/2011 12:21       9.87   \n",
       "140555   C548411         D    Discount        -1   3/31/2011 10:36     162.24   \n",
       "140795   C548462         D    Discount        -1   3/31/2011 12:11      14.52   \n",
       "150591   C549452         D    Discount        -1    4/8/2011 14:17    1867.86   \n",
       "169541   C551190         D    Discount        -1   4/27/2011 10:22     120.00   \n",
       "169834   C551265         D    Discount        -1   4/27/2011 12:06      11.76   \n",
       "181009   C552423         D    Discount        -1    5/9/2011 12:44      11.84   \n",
       "182729   C552569         D    Discount      -240   5/10/2011 12:06       0.03   \n",
       "183138   C552650         D    Discount       -18   5/10/2011 14:03       1.45   \n",
       "192807   C553482         D    Discount        -1   5/17/2011 12:07       9.84   \n",
       "194727   C553665         D    Discount        -1   5/18/2011 12:16      15.96   \n",
       "196362   C553841         D    Discount       -48   5/19/2011 12:19       0.20   \n",
       "203526   C554516         D    Discount        -1   5/24/2011 16:50      13.88   \n",
       "214671   C555597         D    Discount        -1    6/6/2011 10:19      42.00   \n",
       "218253   C556037         D    Discount        -1    6/8/2011 12:37      20.92   \n",
       "221712   C556265         D    Discount        -1    6/9/2011 19:24      28.04   \n",
       "226396   C556796         D    Discount       -96   6/14/2011 14:40       0.70   \n",
       "227481   C556877         D    Discount        -1   6/15/2011 12:00     129.90   \n",
       "227705   C556904         D    Discount        -1   6/15/2011 12:56      14.42   \n",
       "238153   C557927         D    Discount        -1   6/23/2011 14:56      10.00   \n",
       "\n",
       "       CustomerID         Country  \n",
       "141         14527  United Kingdom  \n",
       "9038        14527  United Kingdom  \n",
       "14498       15498  United Kingdom  \n",
       "19392       17340  United Kingdom  \n",
       "31134       16422  United Kingdom  \n",
       "31135       16422  United Kingdom  \n",
       "31663       14527  United Kingdom  \n",
       "38609       14527  United Kingdom  \n",
       "44405       14527  United Kingdom  \n",
       "88032       14031  United Kingdom  \n",
       "88071       15299  United Kingdom  \n",
       "88211       17450  United Kingdom  \n",
       "89282       14527  United Kingdom  \n",
       "108071      14527  United Kingdom  \n",
       "108088      16422  United Kingdom  \n",
       "115091      14527  United Kingdom  \n",
       "140555      13316  United Kingdom  \n",
       "140795      14527  United Kingdom  \n",
       "150591      17940  United Kingdom  \n",
       "169541      17940  United Kingdom  \n",
       "169834      14527  United Kingdom  \n",
       "181009      14527  United Kingdom  \n",
       "182729      12901  United Kingdom  \n",
       "183138      16672  United Kingdom  \n",
       "192807      14527  United Kingdom  \n",
       "194727      14527  United Kingdom  \n",
       "196362      16029  United Kingdom  \n",
       "203526      14527  United Kingdom  \n",
       "214671      15796  United Kingdom  \n",
       "218253      14527  United Kingdom  \n",
       "221712      16684  United Kingdom  \n",
       "226396      16013  United Kingdom  \n",
       "227481      15498  United Kingdom  \n",
       "227705      14527  United Kingdom  \n",
       "238153      16029  United Kingdom  "
      ]
     },
     "execution_count": 51,
     "metadata": {},
     "output_type": "execute_result"
    }
   ],
   "source": [
    "cdf[cdf[\"StockCode\"]==\"D\"]"
   ]
  },
  {
   "cell_type": "code",
   "execution_count": 52,
   "id": "57cebded-73e7-4a66-9481-1059873786e6",
   "metadata": {},
   "outputs": [
    {
     "data": {
      "text/plain": [
       "(35, 8)"
      ]
     },
     "execution_count": 52,
     "metadata": {},
     "output_type": "execute_result"
    }
   ],
   "source": [
    "cdf[cdf[\"StockCode\"]==\"D\"].shape"
   ]
  },
  {
   "cell_type": "code",
   "execution_count": 55,
   "id": "2dfff410-6f03-4865-a770-861fce089e1a",
   "metadata": {},
   "outputs": [
    {
     "data": {
      "text/plain": [
       "array(['85123A', '71053', '84406B', ..., '23018', '23025', '79161A'],\n",
       "      dtype=object)"
      ]
     },
     "execution_count": 55,
     "metadata": {},
     "output_type": "execute_result"
    }
   ],
   "source": [
    "cdf[\"StockCode\"].unique()"
   ]
  },
  {
   "cell_type": "code",
   "execution_count": null,
   "id": "5ba900a8-8d6f-4819-b84c-0dcaffd8be2c",
   "metadata": {},
   "outputs": [],
   "source": []
  }
 ],
 "metadata": {
  "kernelspec": {
   "display_name": "Python 3 (ipykernel)",
   "language": "python",
   "name": "python3"
  },
  "language_info": {
   "codemirror_mode": {
    "name": "ipython",
    "version": 3
   },
   "file_extension": ".py",
   "mimetype": "text/x-python",
   "name": "python",
   "nbconvert_exporter": "python",
   "pygments_lexer": "ipython3",
   "version": "3.8.10"
  }
 },
 "nbformat": 4,
 "nbformat_minor": 5
}
