{
 "cells": [
  {
   "cell_type": "code",
   "execution_count": 12,
   "id": "2f8c431c-aeef-4d00-a54b-31a530addf06",
   "metadata": {},
   "outputs": [],
   "source": [
    "import pandas as pd"
   ]
  },
  {
   "cell_type": "code",
   "execution_count": 13,
   "id": "e9880818-940e-472e-b72d-e74ddd2de20b",
   "metadata": {},
   "outputs": [],
   "source": [
    "df = pd.read_csv('../data/data2010-2011s1.csv', encoding=\"unicode_escape\")"
   ]
  },
  {
   "cell_type": "code",
   "execution_count": 14,
   "id": "a650f4ad-7077-4af2-92e5-22a8ce9dcaf3",
   "metadata": {},
   "outputs": [
    {
     "data": {
      "text/plain": [
       "(12295, 8)"
      ]
     },
     "execution_count": 17,
     "metadata": {},
     "output_type": "execute_result"
    }
   ],
   "source": [
    "rdf = df.sample(frac=0.05)\n",
    "rdf.shape"
   ]
  },
  {
   "cell_type": "code",
   "execution_count": 19,
   "id": "ab606a5b-0e45-4966-b0d2-71acede51e4a",
   "metadata": {},
   "outputs": [],
   "source": [
    "rdf.iloc[:,1:].to_csv('../data/rData.csv', sep=',')"
   ]
  },
  {
   "cell_type": "code",
   "execution_count": null,
   "id": "8165fbbc-dd02-4545-8dab-fc7ad0dbf996",
   "metadata": {},
   "outputs": [],
   "source": []
  }
 ],
 "metadata": {
  "kernelspec": {
   "display_name": "Python 3 (ipykernel)",
   "language": "python",
   "name": "python3"
  },
  "language_info": {
   "codemirror_mode": {
    "name": "ipython",
    "version": 3
   },
   "file_extension": ".py",
   "mimetype": "text/x-python",
   "name": "python",
   "nbconvert_exporter": "python",
   "pygments_lexer": "ipython3",
   "version": "3.10.5"
  }
 },
 "nbformat": 4,
 "nbformat_minor": 5
}
