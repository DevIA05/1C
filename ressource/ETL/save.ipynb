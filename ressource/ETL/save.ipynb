{
 "cells": [
  {
   "cell_type": "code",
   "execution_count": null,
   "id": "5d7d150e-f876-4f4e-ad23-b2831df715be",
   "metadata": {},
   "outputs": [],
   "source": [
    "# ** Set aside duplicates \n",
    "# ** relative to columns InvoiceNo and StockCode\n",
    "def duplicated(err, countErr, dataframe):\n",
    "    pdb.set_trace()\n",
    "    d = dataframe.duplicated(subset = ['InvoiceNo', 'StockCode']) # return a boolean vector\n",
    "    errDuplicated = dataframe[d==True].copy()\n",
    "    errDuplicated[\"Erreur\"] = \"Doublon\"\n",
    "    dataframe = dataframe[d==False]\n",
    "    countErr[\"Duplicate\"] = errDuplicated.shape[0] + (0 if countErr.get('Duplicate')==None else countErr.get('Duplicate'))\n",
    "    err = pd.concat([err, errDuplicated])\n",
    "    return err, countErr, dataframe"
   ]
  },
  {
   "cell_type": "code",
   "execution_count": null,
   "id": "186f4d75-4c6e-4797-864a-73a3f3e27216",
   "metadata": {},
   "outputs": [],
   "source": [
    "# ** Process the country column\n",
    "# err{pandas.Dataframe} stores rows set aside\n",
    "# countErr{dict} stores the number of rows matched by a filter \n",
    "# dataframe{pandas.Dataframe} data\n",
    "# return err, countErr, dataframe from which unwanted data has been removed\n",
    "def country(err, countErr, dataframe):\n",
    "    ## Unspecified\n",
    "    c = dataframe['Country'] == \"Unspecified\" # return a boolean vector\n",
    "    errCountry = dataframe[c==True].copy()\n",
    "    errCountry[\"Erreur\"] = \"Pays: Unspecified\" \n",
    "    dataframe = dataframe[c==False] \n",
    "    countErr[\"Country\"] = errCountry.shape[0] + (0 if countErr.get('Country')==None else countErr.get('Country'))\n",
    "    err = pd.concat([err, errCountry])\n",
    "    ## None\n",
    "    c = dataframe['Country'] == None\n",
    "    errCountry = dataframe[c==True]\n",
    "    errCountry[\"Erreur\"] = \"Pays: None\"\n",
    "    dataframe = dataframe[c==False] \n",
    "    countErr[\"Country\"] = errCountry.shape[0] + (0 if countErr.get('Country')==None else countErr.get('Country'))\n",
    "    err = pd.concat(err, errCountry)\n",
    "    return err, countErr, dataframe"
   ]
  },
  {
   "cell_type": "code",
   "execution_count": null,
   "id": "1573d68a-7c9a-4f79-921f-7699fa9cf55a",
   "metadata": {},
   "outputs": [],
   "source": [
    "# ** Process the InvoiceDate column\n",
    "# err{pandas.Dataframe} stores rows set aside\n",
    "# countErr{dict} stores the number of rows matched by a filter \n",
    "# dataframe{pandas.Dataframe} data\n",
    "# return err, countErr, dataframe from which unwanted data has been removed\n",
    "def invoicedate(err, countErr, dataframe):\n",
    "    date_pattern = \"^([0]{0,1}[1-9]|1[012])\\/([1-9]|([012][0-9])|(3[01]))\\/((\\d\\d\\d\\d)) [012]{0,1}[0-9]:[0-6][0-9]$\"\n",
    "    id = dataframe['InvoiceDate'].str.match(date_pattern) # return a boolean vector\n",
    "    errDate = dataframe[id==False]\n",
    "    errDate[\"Erreur\"] = \"La date est incorrecte\"\n",
    "    dataframe = dataframe[id==True]\n",
    "    countErr[\"Date\"] = errDate.shape[0]\n",
    "    err = pd.concat(err, errDate)\n",
    "    return err, countErr, dataframe"
   ]
  }
 ],
 "metadata": {
  "kernelspec": {
   "display_name": "Python 3 (ipykernel)",
   "language": "python",
   "name": "python3"
  },
  "language_info": {
   "codemirror_mode": {
    "name": "ipython",
    "version": 3
   },
   "file_extension": ".py",
   "mimetype": "text/x-python",
   "name": "python",
   "nbconvert_exporter": "python",
   "pygments_lexer": "ipython3",
   "version": "3.10.5"
  }
 },
 "nbformat": 4,
 "nbformat_minor": 5
}
