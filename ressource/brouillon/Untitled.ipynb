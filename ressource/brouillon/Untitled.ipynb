{
 "cells": [
  {
   "cell_type": "markdown",
   "id": "02b08b3e-a071-463f-8288-69a2343d36f6",
   "metadata": {},
   "source": [
    "# 1"
   ]
  },
  {
   "cell_type": "code",
   "execution_count": 1,
   "id": "764ec432-da9a-42e7-ba13-9d02d31e6578",
   "metadata": {},
   "outputs": [
    {
     "name": "stdout",
     "output_type": "stream",
     "text": [
      "19\n",
      "    col1  col2\n",
      "0      8     7\n",
      "1      7     5\n",
      "2      7     4\n",
      "6      5    10\n",
      "7      7     6\n",
      "8      5     6\n",
      "10     9     3\n",
      "11     7     1\n",
      "13     5     6\n",
      "14     6     1\n",
      "    col1  col2       Comment\n",
      "3      2     9  petit nombre\n",
      "4      1     2  petit nombre\n",
      "5      3     3  petit nombre\n",
      "9      1     3  petit nombre\n",
      "12     4     2  petit nombre\n",
      "15     4     4  petit nombre\n",
      "16     2     8  petit nombre\n",
      "17     1     5  petit nombre\n",
      "18     4     6  petit nombre\n"
     ]
    }
   ],
   "source": [
    "import pandas as pd\n",
    "import random\n",
    "\n",
    "d = {'col1': [random.randint(1, 10) for i in range(1,20)],\n",
    "     'col2': [random.randint(1, 10) for i in range(1,20)]}\n",
    "df = pd.DataFrame(data=d)\n",
    "\n",
    "a = df[\"col1\"] < 5\n",
    "print(a.shape[0])\n",
    "b = df[a==False]\n",
    "print(b)\n",
    "\n",
    "err = df[a==True].copy()\n",
    "err[\"Comment\"] = \"petit nombre\"\n",
    "print(err)"
   ]
  },
  {
   "cell_type": "markdown",
   "id": "a87f22f7-bd84-427c-bb14-94c568b5f142",
   "metadata": {},
   "source": [
    "# 2"
   ]
  },
  {
   "cell_type": "code",
   "execution_count": 5,
   "id": "031d7781-6fcb-4b23-8f31-9228df68a776",
   "metadata": {},
   "outputs": [],
   "source": [
    "import pandas as pd\n",
    "\n",
    "df1 = pd.DataFrame()\n",
    "df2 = pd.DataFrame()"
   ]
  },
  {
   "cell_type": "code",
   "execution_count": 6,
   "id": "e52ebf2f-ce11-453e-b072-49b10988091a",
   "metadata": {},
   "outputs": [
    {
     "name": "stderr",
     "output_type": "stream",
     "text": [
      "C:\\Users\\devia.e05\\AppData\\Local\\Temp\\ipykernel_19196\\1206186022.py:1: FutureWarning: In a future version of pandas all arguments of concat except for the argument 'objs' will be keyword-only.\n",
      "  pd.concat(df1, df2)\n"
     ]
    },
    {
     "ename": "TypeError",
     "evalue": "first argument must be an iterable of pandas objects, you passed an object of type \"DataFrame\"",
     "output_type": "error",
     "traceback": [
      "\u001b[1;31m---------------------------------------------------------------------------\u001b[0m",
      "\u001b[1;31mTypeError\u001b[0m                                 Traceback (most recent call last)",
      "\u001b[1;32m~\\AppData\\Local\\Temp\\ipykernel_19196\\1206186022.py\u001b[0m in \u001b[0;36m<cell line: 1>\u001b[1;34m()\u001b[0m\n\u001b[1;32m----> 1\u001b[1;33m \u001b[0mpd\u001b[0m\u001b[1;33m.\u001b[0m\u001b[0mconcat\u001b[0m\u001b[1;33m(\u001b[0m\u001b[0mdf1\u001b[0m\u001b[1;33m,\u001b[0m \u001b[0mdf2\u001b[0m\u001b[1;33m)\u001b[0m\u001b[1;33m\u001b[0m\u001b[1;33m\u001b[0m\u001b[0m\n\u001b[0m",
      "\u001b[1;32m~\\AppData\\Local\\Programs\\Spyder\\pkgs\\pandas\\util\\_decorators.py\u001b[0m in \u001b[0;36mwrapper\u001b[1;34m(*args, **kwargs)\u001b[0m\n\u001b[0;32m    309\u001b[0m                     \u001b[0mstacklevel\u001b[0m\u001b[1;33m=\u001b[0m\u001b[0mstacklevel\u001b[0m\u001b[1;33m,\u001b[0m\u001b[1;33m\u001b[0m\u001b[1;33m\u001b[0m\u001b[0m\n\u001b[0;32m    310\u001b[0m                 )\n\u001b[1;32m--> 311\u001b[1;33m             \u001b[1;32mreturn\u001b[0m \u001b[0mfunc\u001b[0m\u001b[1;33m(\u001b[0m\u001b[1;33m*\u001b[0m\u001b[0margs\u001b[0m\u001b[1;33m,\u001b[0m \u001b[1;33m**\u001b[0m\u001b[0mkwargs\u001b[0m\u001b[1;33m)\u001b[0m\u001b[1;33m\u001b[0m\u001b[1;33m\u001b[0m\u001b[0m\n\u001b[0m\u001b[0;32m    312\u001b[0m \u001b[1;33m\u001b[0m\u001b[0m\n\u001b[0;32m    313\u001b[0m         \u001b[1;32mreturn\u001b[0m \u001b[0mwrapper\u001b[0m\u001b[1;33m\u001b[0m\u001b[1;33m\u001b[0m\u001b[0m\n",
      "\u001b[1;32m~\\AppData\\Local\\Programs\\Spyder\\pkgs\\pandas\\core\\reshape\\concat.py\u001b[0m in \u001b[0;36mconcat\u001b[1;34m(objs, axis, join, ignore_index, keys, levels, names, verify_integrity, sort, copy)\u001b[0m\n\u001b[0;32m    345\u001b[0m     \u001b[0mValueError\u001b[0m\u001b[1;33m:\u001b[0m \u001b[0mIndexes\u001b[0m \u001b[0mhave\u001b[0m \u001b[0moverlapping\u001b[0m \u001b[0mvalues\u001b[0m\u001b[1;33m:\u001b[0m \u001b[1;33m[\u001b[0m\u001b[1;34m'a'\u001b[0m\u001b[1;33m]\u001b[0m\u001b[1;33m\u001b[0m\u001b[1;33m\u001b[0m\u001b[0m\n\u001b[0;32m    346\u001b[0m     \"\"\"\n\u001b[1;32m--> 347\u001b[1;33m     op = _Concatenator(\n\u001b[0m\u001b[0;32m    348\u001b[0m         \u001b[0mobjs\u001b[0m\u001b[1;33m,\u001b[0m\u001b[1;33m\u001b[0m\u001b[1;33m\u001b[0m\u001b[0m\n\u001b[0;32m    349\u001b[0m         \u001b[0maxis\u001b[0m\u001b[1;33m=\u001b[0m\u001b[0maxis\u001b[0m\u001b[1;33m,\u001b[0m\u001b[1;33m\u001b[0m\u001b[1;33m\u001b[0m\u001b[0m\n",
      "\u001b[1;32m~\\AppData\\Local\\Programs\\Spyder\\pkgs\\pandas\\core\\reshape\\concat.py\u001b[0m in \u001b[0;36m__init__\u001b[1;34m(self, objs, axis, join, keys, levels, names, ignore_index, verify_integrity, copy, sort)\u001b[0m\n\u001b[0;32m    380\u001b[0m     ):\n\u001b[0;32m    381\u001b[0m         \u001b[1;32mif\u001b[0m \u001b[0misinstance\u001b[0m\u001b[1;33m(\u001b[0m\u001b[0mobjs\u001b[0m\u001b[1;33m,\u001b[0m \u001b[1;33m(\u001b[0m\u001b[0mABCSeries\u001b[0m\u001b[1;33m,\u001b[0m \u001b[0mABCDataFrame\u001b[0m\u001b[1;33m,\u001b[0m \u001b[0mstr\u001b[0m\u001b[1;33m)\u001b[0m\u001b[1;33m)\u001b[0m\u001b[1;33m:\u001b[0m\u001b[1;33m\u001b[0m\u001b[1;33m\u001b[0m\u001b[0m\n\u001b[1;32m--> 382\u001b[1;33m             raise TypeError(\n\u001b[0m\u001b[0;32m    383\u001b[0m                 \u001b[1;34m\"first argument must be an iterable of pandas \"\u001b[0m\u001b[1;33m\u001b[0m\u001b[1;33m\u001b[0m\u001b[0m\n\u001b[0;32m    384\u001b[0m                 \u001b[1;34mf'objects, you passed an object of type \"{type(objs).__name__}\"'\u001b[0m\u001b[1;33m\u001b[0m\u001b[1;33m\u001b[0m\u001b[0m\n",
      "\u001b[1;31mTypeError\u001b[0m: first argument must be an iterable of pandas objects, you passed an object of type \"DataFrame\""
     ]
    }
   ],
   "source": [
    "pd.concat(df1, df2)"
   ]
  },
  {
   "cell_type": "code",
   "execution_count": 17,
   "id": "1f4d8ab0-0ec8-4877-b658-ede5762168c7",
   "metadata": {},
   "outputs": [
    {
     "data": {
      "text/html": [
       "<div>\n",
       "<style scoped>\n",
       "    .dataframe tbody tr th:only-of-type {\n",
       "        vertical-align: middle;\n",
       "    }\n",
       "\n",
       "    .dataframe tbody tr th {\n",
       "        vertical-align: top;\n",
       "    }\n",
       "\n",
       "    .dataframe thead th {\n",
       "        text-align: right;\n",
       "    }\n",
       "</style>\n",
       "<table border=\"1\" class=\"dataframe\">\n",
       "  <thead>\n",
       "    <tr style=\"text-align: right;\">\n",
       "      <th></th>\n",
       "      <th>col</th>\n",
       "      <th>Err</th>\n",
       "    </tr>\n",
       "  </thead>\n",
       "  <tbody>\n",
       "    <tr>\n",
       "      <th>0</th>\n",
       "      <td>1</td>\n",
       "      <td>err</td>\n",
       "    </tr>\n",
       "    <tr>\n",
       "      <th>1</th>\n",
       "      <td>2</td>\n",
       "      <td>err</td>\n",
       "    </tr>\n",
       "    <tr>\n",
       "      <th>2</th>\n",
       "      <td>3</td>\n",
       "      <td>err</td>\n",
       "    </tr>\n",
       "  </tbody>\n",
       "</table>\n",
       "</div>"
      ],
      "text/plain": [
       "   col  Err\n",
       "0    1  err\n",
       "1    2  err\n",
       "2    3  err"
      ]
     },
     "execution_count": 17,
     "metadata": {},
     "output_type": "execute_result"
    }
   ],
   "source": [
    "df1 = pd.DataFrame()\n",
    "df2 = pd.DataFrame(data={\"col\":[1,2,3]})\n",
    "df2[\"Err\"] = \"err\"\n",
    "pd.concat([df1, df2])"
   ]
  },
  {
   "cell_type": "code",
   "execution_count": 18,
   "id": "6427d4de-11f1-4f61-a11a-f95d3c932649",
   "metadata": {},
   "outputs": [],
   "source": [
    "def dropC(err, countErr, dataframe,\n",
    "          condition, phrase, nameC):\n",
    "    t = condition\n",
    "    errCx = dataframe[t==True].copy()\n",
    "    errCx[\"Erreur\"] = phrase\n",
    "    dataframe = dataframe[t==False]\n",
    "    countErr[nameC] = errCountry.shape[0] + (0 if countErr.get(nameC)==None else countErr.get(nameC))\n",
    "    err = pd.concat([err, errCx])\n",
    "    return err, countErr, dataframe"
   ]
  },
  {
   "cell_type": "code",
   "execution_count": 23,
   "id": "8fe959b4-bde0-4900-b247-cabe71c6e84f",
   "metadata": {},
   "outputs": [
    {
     "name": "stdout",
     "output_type": "stream",
     "text": [
      "     col\n",
      "0   True\n",
      "1  False\n",
      "     col\n",
      "0  False\n",
      "1   True\n"
     ]
    }
   ],
   "source": [
    "b = pd.DataFrame(data={\"col\": [True, False]})\n",
    "print(b)\n",
    "print(~b)"
   ]
  },
  {
   "cell_type": "markdown",
   "id": "4baf36f6-cdcc-47ed-8bdd-85489ceeab12",
   "metadata": {},
   "source": [
    "# 3 Test clean phase"
   ]
  },
  {
   "cell_type": "code",
   "execution_count": 32,
   "id": "656e0c50-3b72-4d33-bf47-5af718b17587",
   "metadata": {},
   "outputs": [],
   "source": [
    "import pandas as pd\n",
    "df = pd.read_csv('../data/rData.csv', encoding=\"unicode_escape\")"
   ]
  },
  {
   "cell_type": "code",
   "execution_count": 33,
   "id": "47f57202-45a9-42a4-97d7-53325815ef57",
   "metadata": {},
   "outputs": [
    {
     "data": {
      "text/plain": [
       "(12295, 8)"
      ]
     },
     "execution_count": 33,
     "metadata": {},
     "output_type": "execute_result"
    }
   ],
   "source": [
    "df.shape"
   ]
  },
  {
   "cell_type": "code",
   "execution_count": 45,
   "id": "6ea1e6da-b983-4fa9-b84c-279fb82ad063",
   "metadata": {},
   "outputs": [],
   "source": [
    "a = df[(df[\"InvoiceNo\"] == \"555524\") & (df[\"StockCode\"] == \"22697\")]"
   ]
  },
  {
   "cell_type": "code",
   "execution_count": 46,
   "id": "bf11297b-035c-464b-b81c-e27b6b6760e1",
   "metadata": {},
   "outputs": [
    {
     "data": {
      "text/html": [
       "<div>\n",
       "<style scoped>\n",
       "    .dataframe tbody tr th:only-of-type {\n",
       "        vertical-align: middle;\n",
       "    }\n",
       "\n",
       "    .dataframe tbody tr th {\n",
       "        vertical-align: top;\n",
       "    }\n",
       "\n",
       "    .dataframe thead th {\n",
       "        text-align: right;\n",
       "    }\n",
       "</style>\n",
       "<table border=\"1\" class=\"dataframe\">\n",
       "  <thead>\n",
       "    <tr style=\"text-align: right;\">\n",
       "      <th></th>\n",
       "      <th>InvoiceNo</th>\n",
       "      <th>StockCode</th>\n",
       "      <th>Description</th>\n",
       "      <th>Quantity</th>\n",
       "      <th>InvoiceDate</th>\n",
       "      <th>UnitPrice</th>\n",
       "      <th>CustomerID</th>\n",
       "      <th>Country</th>\n",
       "    </tr>\n",
       "  </thead>\n",
       "  <tbody>\n",
       "    <tr>\n",
       "      <th>6187</th>\n",
       "      <td>555524</td>\n",
       "      <td>22697</td>\n",
       "      <td>GREEN REGENCY TEACUP AND SAUCER</td>\n",
       "      <td>1</td>\n",
       "      <td>6/5/2011 11:37</td>\n",
       "      <td>2.95</td>\n",
       "      <td>16923.0</td>\n",
       "      <td>United Kingdom</td>\n",
       "    </tr>\n",
       "    <tr>\n",
       "      <th>6805</th>\n",
       "      <td>555524</td>\n",
       "      <td>22697</td>\n",
       "      <td>GREEN REGENCY TEACUP AND SAUCER</td>\n",
       "      <td>1</td>\n",
       "      <td>6/5/2011 11:37</td>\n",
       "      <td>2.95</td>\n",
       "      <td>16923.0</td>\n",
       "      <td>United Kingdom</td>\n",
       "    </tr>\n",
       "  </tbody>\n",
       "</table>\n",
       "</div>"
      ],
      "text/plain": [
       "     InvoiceNo StockCode                      Description  Quantity  \\\n",
       "6187    555524     22697  GREEN REGENCY TEACUP AND SAUCER         1   \n",
       "6805    555524     22697  GREEN REGENCY TEACUP AND SAUCER         1   \n",
       "\n",
       "         InvoiceDate  UnitPrice  CustomerID         Country  \n",
       "6187  6/5/2011 11:37       2.95     16923.0  United Kingdom  \n",
       "6805  6/5/2011 11:37       2.95     16923.0  United Kingdom  "
      ]
     },
     "execution_count": 46,
     "metadata": {},
     "output_type": "execute_result"
    }
   ],
   "source": [
    "a"
   ]
  },
  {
   "cell_type": "code",
   "execution_count": 20,
   "id": "11e7a9ea-b409-4954-96cb-ababc3d57f5f",
   "metadata": {},
   "outputs": [
    {
     "data": {
      "text/html": [
       "<div>\n",
       "<style scoped>\n",
       "    .dataframe tbody tr th:only-of-type {\n",
       "        vertical-align: middle;\n",
       "    }\n",
       "\n",
       "    .dataframe tbody tr th {\n",
       "        vertical-align: top;\n",
       "    }\n",
       "\n",
       "    .dataframe thead th {\n",
       "        text-align: right;\n",
       "    }\n",
       "</style>\n",
       "<table border=\"1\" class=\"dataframe\">\n",
       "  <thead>\n",
       "    <tr style=\"text-align: right;\">\n",
       "      <th></th>\n",
       "      <th>InvoiceNo</th>\n",
       "      <th>StockCode</th>\n",
       "      <th>Description</th>\n",
       "      <th>Quantity</th>\n",
       "      <th>InvoiceDate</th>\n",
       "      <th>UnitPrice</th>\n",
       "      <th>CustomerID</th>\n",
       "      <th>Country</th>\n",
       "    </tr>\n",
       "  </thead>\n",
       "  <tbody>\n",
       "  </tbody>\n",
       "</table>\n",
       "</div>"
      ],
      "text/plain": [
       "Empty DataFrame\n",
       "Columns: [InvoiceNo, StockCode, Description, Quantity, InvoiceDate, UnitPrice, CustomerID, Country]\n",
       "Index: []"
      ]
     },
     "execution_count": 20,
     "metadata": {},
     "output_type": "execute_result"
    }
   ],
   "source": [
    "df[a == True]"
   ]
  },
  {
   "cell_type": "code",
   "execution_count": 21,
   "id": "0ed48924-bbaa-41eb-a827-eb2ce038e866",
   "metadata": {},
   "outputs": [
    {
     "data": {
      "text/html": [
       "<div>\n",
       "<style scoped>\n",
       "    .dataframe tbody tr th:only-of-type {\n",
       "        vertical-align: middle;\n",
       "    }\n",
       "\n",
       "    .dataframe tbody tr th {\n",
       "        vertical-align: top;\n",
       "    }\n",
       "\n",
       "    .dataframe thead th {\n",
       "        text-align: right;\n",
       "    }\n",
       "</style>\n",
       "<table border=\"1\" class=\"dataframe\">\n",
       "  <thead>\n",
       "    <tr style=\"text-align: right;\">\n",
       "      <th></th>\n",
       "      <th>InvoiceNo</th>\n",
       "      <th>StockCode</th>\n",
       "      <th>Description</th>\n",
       "      <th>Quantity</th>\n",
       "      <th>InvoiceDate</th>\n",
       "      <th>UnitPrice</th>\n",
       "      <th>CustomerID</th>\n",
       "      <th>Country</th>\n",
       "    </tr>\n",
       "  </thead>\n",
       "  <tbody>\n",
       "    <tr>\n",
       "      <th>0</th>\n",
       "      <td>543162</td>\n",
       "      <td>82578</td>\n",
       "      <td>KITCHEN METAL SIGN</td>\n",
       "      <td>25</td>\n",
       "      <td>2/3/2011 18:08</td>\n",
       "      <td>0.55</td>\n",
       "      <td>17507.0</td>\n",
       "      <td>United Kingdom</td>\n",
       "    </tr>\n",
       "    <tr>\n",
       "      <th>1</th>\n",
       "      <td>543805</td>\n",
       "      <td>21382</td>\n",
       "      <td>SET/4 SPRING FLOWER DECORATION</td>\n",
       "      <td>4</td>\n",
       "      <td>2/13/2011 12:41</td>\n",
       "      <td>2.95</td>\n",
       "      <td>17050.0</td>\n",
       "      <td>United Kingdom</td>\n",
       "    </tr>\n",
       "    <tr>\n",
       "      <th>2</th>\n",
       "      <td>556829</td>\n",
       "      <td>23264</td>\n",
       "      <td>SET OF 3 WOODEN SLEIGH DECORATIONS</td>\n",
       "      <td>12</td>\n",
       "      <td>6/15/2011 10:51</td>\n",
       "      <td>1.25</td>\n",
       "      <td>12809.0</td>\n",
       "      <td>Portugal</td>\n",
       "    </tr>\n",
       "    <tr>\n",
       "      <th>3</th>\n",
       "      <td>551998</td>\n",
       "      <td>85150</td>\n",
       "      <td>LADIES &amp; GENTLEMEN METAL SIGN</td>\n",
       "      <td>12</td>\n",
       "      <td>5/5/2011 15:48</td>\n",
       "      <td>2.55</td>\n",
       "      <td>14099.0</td>\n",
       "      <td>United Kingdom</td>\n",
       "    </tr>\n",
       "    <tr>\n",
       "      <th>4</th>\n",
       "      <td>540824</td>\n",
       "      <td>22423</td>\n",
       "      <td>REGENCY CAKESTAND 3 TIER</td>\n",
       "      <td>1</td>\n",
       "      <td>1/11/2011 13:31</td>\n",
       "      <td>12.75</td>\n",
       "      <td>12728.0</td>\n",
       "      <td>France</td>\n",
       "    </tr>\n",
       "    <tr>\n",
       "      <th>...</th>\n",
       "      <td>...</td>\n",
       "      <td>...</td>\n",
       "      <td>...</td>\n",
       "      <td>...</td>\n",
       "      <td>...</td>\n",
       "      <td>...</td>\n",
       "      <td>...</td>\n",
       "      <td>...</td>\n",
       "    </tr>\n",
       "    <tr>\n",
       "      <th>12290</th>\n",
       "      <td>544394</td>\n",
       "      <td>22726</td>\n",
       "      <td>ALARM CLOCK BAKELIKE GREEN</td>\n",
       "      <td>4</td>\n",
       "      <td>2/18/2011 12:02</td>\n",
       "      <td>3.75</td>\n",
       "      <td>13932.0</td>\n",
       "      <td>United Kingdom</td>\n",
       "    </tr>\n",
       "    <tr>\n",
       "      <th>12291</th>\n",
       "      <td>547199</td>\n",
       "      <td>21169</td>\n",
       "      <td>YOU'RE CONFUSING ME METAL SIGN</td>\n",
       "      <td>1</td>\n",
       "      <td>3/21/2011 12:53</td>\n",
       "      <td>1.69</td>\n",
       "      <td>14606.0</td>\n",
       "      <td>United Kingdom</td>\n",
       "    </tr>\n",
       "    <tr>\n",
       "      <th>12292</th>\n",
       "      <td>554980</td>\n",
       "      <td>22274</td>\n",
       "      <td>FELTCRAFT DOLL EMILY</td>\n",
       "      <td>1</td>\n",
       "      <td>5/29/2011 11:59</td>\n",
       "      <td>2.95</td>\n",
       "      <td>17613.0</td>\n",
       "      <td>United Kingdom</td>\n",
       "    </tr>\n",
       "    <tr>\n",
       "      <th>12293</th>\n",
       "      <td>544634</td>\n",
       "      <td>22367</td>\n",
       "      <td>CHILDRENS APRON SPACEBOY DESIGN</td>\n",
       "      <td>2</td>\n",
       "      <td>2/22/2011 11:02</td>\n",
       "      <td>1.95</td>\n",
       "      <td>17994.0</td>\n",
       "      <td>United Kingdom</td>\n",
       "    </tr>\n",
       "    <tr>\n",
       "      <th>12294</th>\n",
       "      <td>539453</td>\n",
       "      <td>22661</td>\n",
       "      <td>CHARLOTTE BAG DOLLY GIRL DESIGN</td>\n",
       "      <td>1</td>\n",
       "      <td>12/17/2010 17:08</td>\n",
       "      <td>1.66</td>\n",
       "      <td>NaN</td>\n",
       "      <td>United Kingdom</td>\n",
       "    </tr>\n",
       "  </tbody>\n",
       "</table>\n",
       "<p>12295 rows × 8 columns</p>\n",
       "</div>"
      ],
      "text/plain": [
       "      InvoiceNo StockCode                         Description  Quantity  \\\n",
       "0        543162     82578                  KITCHEN METAL SIGN        25   \n",
       "1        543805     21382      SET/4 SPRING FLOWER DECORATION         4   \n",
       "2        556829     23264  SET OF 3 WOODEN SLEIGH DECORATIONS        12   \n",
       "3        551998     85150       LADIES & GENTLEMEN METAL SIGN        12   \n",
       "4        540824     22423            REGENCY CAKESTAND 3 TIER         1   \n",
       "...         ...       ...                                 ...       ...   \n",
       "12290    544394     22726          ALARM CLOCK BAKELIKE GREEN         4   \n",
       "12291    547199     21169     YOU'RE CONFUSING ME METAL SIGN          1   \n",
       "12292    554980     22274                FELTCRAFT DOLL EMILY         1   \n",
       "12293    544634     22367     CHILDRENS APRON SPACEBOY DESIGN         2   \n",
       "12294    539453     22661     CHARLOTTE BAG DOLLY GIRL DESIGN         1   \n",
       "\n",
       "            InvoiceDate  UnitPrice  CustomerID         Country  \n",
       "0        2/3/2011 18:08       0.55     17507.0  United Kingdom  \n",
       "1       2/13/2011 12:41       2.95     17050.0  United Kingdom  \n",
       "2       6/15/2011 10:51       1.25     12809.0        Portugal  \n",
       "3        5/5/2011 15:48       2.55     14099.0  United Kingdom  \n",
       "4       1/11/2011 13:31      12.75     12728.0          France  \n",
       "...                 ...        ...         ...             ...  \n",
       "12290   2/18/2011 12:02       3.75     13932.0  United Kingdom  \n",
       "12291   3/21/2011 12:53       1.69     14606.0  United Kingdom  \n",
       "12292   5/29/2011 11:59       2.95     17613.0  United Kingdom  \n",
       "12293   2/22/2011 11:02       1.95     17994.0  United Kingdom  \n",
       "12294  12/17/2010 17:08       1.66         NaN  United Kingdom  \n",
       "\n",
       "[12295 rows x 8 columns]"
      ]
     },
     "execution_count": 21,
     "metadata": {},
     "output_type": "execute_result"
    }
   ],
   "source": [
    "df[a == False]"
   ]
  },
  {
   "cell_type": "code",
   "execution_count": 58,
   "id": "f30cc2a9-0a50-403d-a3db-3feeb19affe5",
   "metadata": {},
   "outputs": [],
   "source": [
    "booldf = df.duplicated(subset = ['InvoiceNo', 'StockCode'])"
   ]
  },
  {
   "cell_type": "code",
   "execution_count": 64,
   "id": "02610c43-1115-4718-ab9d-2bc1fedf9452",
   "metadata": {},
   "outputs": [
    {
     "data": {
      "text/plain": [
       "6720     True\n",
       "6805     True\n",
       "8455     True\n",
       "9119     True\n",
       "9476     True\n",
       "11186    True\n",
       "dtype: bool"
      ]
     },
     "execution_count": 64,
     "metadata": {},
     "output_type": "execute_result"
    }
   ],
   "source": [
    "booldf[booldf==True]"
   ]
  },
  {
   "cell_type": "code",
   "execution_count": 60,
   "id": "99bb0286-f228-4907-9643-104d8da37c90",
   "metadata": {},
   "outputs": [
    {
     "data": {
      "text/html": [
       "<div>\n",
       "<style scoped>\n",
       "    .dataframe tbody tr th:only-of-type {\n",
       "        vertical-align: middle;\n",
       "    }\n",
       "\n",
       "    .dataframe tbody tr th {\n",
       "        vertical-align: top;\n",
       "    }\n",
       "\n",
       "    .dataframe thead th {\n",
       "        text-align: right;\n",
       "    }\n",
       "</style>\n",
       "<table border=\"1\" class=\"dataframe\">\n",
       "  <thead>\n",
       "    <tr style=\"text-align: right;\">\n",
       "      <th></th>\n",
       "      <th>InvoiceNo</th>\n",
       "      <th>StockCode</th>\n",
       "      <th>Description</th>\n",
       "      <th>Quantity</th>\n",
       "      <th>InvoiceDate</th>\n",
       "      <th>UnitPrice</th>\n",
       "      <th>CustomerID</th>\n",
       "      <th>Country</th>\n",
       "    </tr>\n",
       "  </thead>\n",
       "  <tbody>\n",
       "    <tr>\n",
       "      <th>6720</th>\n",
       "      <td>537399</td>\n",
       "      <td>21928</td>\n",
       "      <td>JUMBO BAG SCANDINAVIAN PAISLEY</td>\n",
       "      <td>1</td>\n",
       "      <td>12/6/2010 14:31</td>\n",
       "      <td>1.95</td>\n",
       "      <td>13030.0</td>\n",
       "      <td>United Kingdom</td>\n",
       "    </tr>\n",
       "    <tr>\n",
       "      <th>6805</th>\n",
       "      <td>555524</td>\n",
       "      <td>22697</td>\n",
       "      <td>GREEN REGENCY TEACUP AND SAUCER</td>\n",
       "      <td>1</td>\n",
       "      <td>6/5/2011 11:37</td>\n",
       "      <td>2.95</td>\n",
       "      <td>16923.0</td>\n",
       "      <td>United Kingdom</td>\n",
       "    </tr>\n",
       "    <tr>\n",
       "      <th>8455</th>\n",
       "      <td>550322</td>\n",
       "      <td>20724</td>\n",
       "      <td>RED RETROSPOT CHARLOTTE BAG</td>\n",
       "      <td>1</td>\n",
       "      <td>4/17/2011 12:53</td>\n",
       "      <td>0.85</td>\n",
       "      <td>14524.0</td>\n",
       "      <td>United Kingdom</td>\n",
       "    </tr>\n",
       "    <tr>\n",
       "      <th>9119</th>\n",
       "      <td>549294</td>\n",
       "      <td>84536A</td>\n",
       "      <td>ENGLISH ROSE NOTEBOOK A7 SIZE</td>\n",
       "      <td>2</td>\n",
       "      <td>4/7/2011 19:27</td>\n",
       "      <td>0.42</td>\n",
       "      <td>13230.0</td>\n",
       "      <td>United Kingdom</td>\n",
       "    </tr>\n",
       "    <tr>\n",
       "      <th>9476</th>\n",
       "      <td>537781</td>\n",
       "      <td>21625</td>\n",
       "      <td>VINTAGE UNION JACK APRON</td>\n",
       "      <td>1</td>\n",
       "      <td>12/8/2010 12:46</td>\n",
       "      <td>6.95</td>\n",
       "      <td>17341.0</td>\n",
       "      <td>United Kingdom</td>\n",
       "    </tr>\n",
       "    <tr>\n",
       "      <th>11186</th>\n",
       "      <td>555853</td>\n",
       "      <td>22161</td>\n",
       "      <td>HEART DECORATION RUSTIC HANGING</td>\n",
       "      <td>4</td>\n",
       "      <td>6/7/2011 13:44</td>\n",
       "      <td>0.19</td>\n",
       "      <td>14375.0</td>\n",
       "      <td>United Kingdom</td>\n",
       "    </tr>\n",
       "  </tbody>\n",
       "</table>\n",
       "</div>"
      ],
      "text/plain": [
       "      InvoiceNo StockCode                       Description  Quantity  \\\n",
       "6720     537399     21928    JUMBO BAG SCANDINAVIAN PAISLEY         1   \n",
       "6805     555524     22697   GREEN REGENCY TEACUP AND SAUCER         1   \n",
       "8455     550322     20724       RED RETROSPOT CHARLOTTE BAG         1   \n",
       "9119     549294    84536A     ENGLISH ROSE NOTEBOOK A7 SIZE         2   \n",
       "9476     537781     21625          VINTAGE UNION JACK APRON         1   \n",
       "11186    555853     22161  HEART DECORATION RUSTIC HANGING          4   \n",
       "\n",
       "           InvoiceDate  UnitPrice  CustomerID         Country  \n",
       "6720   12/6/2010 14:31       1.95     13030.0  United Kingdom  \n",
       "6805    6/5/2011 11:37       2.95     16923.0  United Kingdom  \n",
       "8455   4/17/2011 12:53       0.85     14524.0  United Kingdom  \n",
       "9119    4/7/2011 19:27       0.42     13230.0  United Kingdom  \n",
       "9476   12/8/2010 12:46       6.95     17341.0  United Kingdom  \n",
       "11186   6/7/2011 13:44       0.19     14375.0  United Kingdom  "
      ]
     },
     "execution_count": 60,
     "metadata": {},
     "output_type": "execute_result"
    }
   ],
   "source": [
    "df[booldf==True]"
   ]
  },
  {
   "cell_type": "code",
   "execution_count": 40,
   "id": "13260409-e57a-46c5-aa16-8d7f0ea74df8",
   "metadata": {},
   "outputs": [
    {
     "data": {
      "text/html": [
       "<div>\n",
       "<style scoped>\n",
       "    .dataframe tbody tr th:only-of-type {\n",
       "        vertical-align: middle;\n",
       "    }\n",
       "\n",
       "    .dataframe tbody tr th {\n",
       "        vertical-align: top;\n",
       "    }\n",
       "\n",
       "    .dataframe thead th {\n",
       "        text-align: right;\n",
       "    }\n",
       "</style>\n",
       "<table border=\"1\" class=\"dataframe\">\n",
       "  <thead>\n",
       "    <tr style=\"text-align: right;\">\n",
       "      <th></th>\n",
       "      <th>InvoiceNo</th>\n",
       "      <th>StockCode</th>\n",
       "      <th>Description</th>\n",
       "      <th>Quantity</th>\n",
       "      <th>InvoiceDate</th>\n",
       "      <th>UnitPrice</th>\n",
       "      <th>CustomerID</th>\n",
       "      <th>Country</th>\n",
       "    </tr>\n",
       "  </thead>\n",
       "  <tbody>\n",
       "    <tr>\n",
       "      <th>479</th>\n",
       "      <td>537399</td>\n",
       "      <td>21928</td>\n",
       "      <td>JUMBO BAG SCANDINAVIAN PAISLEY</td>\n",
       "      <td>2</td>\n",
       "      <td>12/6/2010 14:31</td>\n",
       "      <td>1.95</td>\n",
       "      <td>13030.0</td>\n",
       "      <td>United Kingdom</td>\n",
       "    </tr>\n",
       "    <tr>\n",
       "      <th>1509</th>\n",
       "      <td>537399</td>\n",
       "      <td>84029G</td>\n",
       "      <td>KNITTED UNION FLAG HOT WATER BOTTLE</td>\n",
       "      <td>2</td>\n",
       "      <td>12/6/2010 14:31</td>\n",
       "      <td>3.75</td>\n",
       "      <td>13030.0</td>\n",
       "      <td>United Kingdom</td>\n",
       "    </tr>\n",
       "    <tr>\n",
       "      <th>4894</th>\n",
       "      <td>537399</td>\n",
       "      <td>20658</td>\n",
       "      <td>RED RETROSPOT LUGGAGE TAG</td>\n",
       "      <td>1</td>\n",
       "      <td>12/6/2010 14:31</td>\n",
       "      <td>1.25</td>\n",
       "      <td>13030.0</td>\n",
       "      <td>United Kingdom</td>\n",
       "    </tr>\n",
       "    <tr>\n",
       "      <th>6720</th>\n",
       "      <td>537399</td>\n",
       "      <td>21928</td>\n",
       "      <td>JUMBO BAG SCANDINAVIAN PAISLEY</td>\n",
       "      <td>1</td>\n",
       "      <td>12/6/2010 14:31</td>\n",
       "      <td>1.95</td>\n",
       "      <td>13030.0</td>\n",
       "      <td>United Kingdom</td>\n",
       "    </tr>\n",
       "    <tr>\n",
       "      <th>7313</th>\n",
       "      <td>537399</td>\n",
       "      <td>21328</td>\n",
       "      <td>BALLOONS  WRITING SET</td>\n",
       "      <td>2</td>\n",
       "      <td>12/6/2010 14:31</td>\n",
       "      <td>1.65</td>\n",
       "      <td>13030.0</td>\n",
       "      <td>United Kingdom</td>\n",
       "    </tr>\n",
       "    <tr>\n",
       "      <th>11006</th>\n",
       "      <td>537399</td>\n",
       "      <td>22815</td>\n",
       "      <td>CARD PSYCHEDELIC APPLES</td>\n",
       "      <td>12</td>\n",
       "      <td>12/6/2010 14:31</td>\n",
       "      <td>0.42</td>\n",
       "      <td>13030.0</td>\n",
       "      <td>United Kingdom</td>\n",
       "    </tr>\n",
       "    <tr>\n",
       "      <th>12251</th>\n",
       "      <td>537399</td>\n",
       "      <td>22718</td>\n",
       "      <td>CARD CAT AND TREE</td>\n",
       "      <td>12</td>\n",
       "      <td>12/6/2010 14:31</td>\n",
       "      <td>0.42</td>\n",
       "      <td>13030.0</td>\n",
       "      <td>United Kingdom</td>\n",
       "    </tr>\n",
       "  </tbody>\n",
       "</table>\n",
       "</div>"
      ],
      "text/plain": [
       "      InvoiceNo StockCode                          Description  Quantity  \\\n",
       "479      537399     21928       JUMBO BAG SCANDINAVIAN PAISLEY         2   \n",
       "1509     537399    84029G  KNITTED UNION FLAG HOT WATER BOTTLE         2   \n",
       "4894     537399     20658            RED RETROSPOT LUGGAGE TAG         1   \n",
       "6720     537399     21928       JUMBO BAG SCANDINAVIAN PAISLEY         1   \n",
       "7313     537399     21328               BALLOONS  WRITING SET          2   \n",
       "11006    537399     22815              CARD PSYCHEDELIC APPLES        12   \n",
       "12251    537399     22718                   CARD CAT AND TREE         12   \n",
       "\n",
       "           InvoiceDate  UnitPrice  CustomerID         Country  \n",
       "479    12/6/2010 14:31       1.95     13030.0  United Kingdom  \n",
       "1509   12/6/2010 14:31       3.75     13030.0  United Kingdom  \n",
       "4894   12/6/2010 14:31       1.25     13030.0  United Kingdom  \n",
       "6720   12/6/2010 14:31       1.95     13030.0  United Kingdom  \n",
       "7313   12/6/2010 14:31       1.65     13030.0  United Kingdom  \n",
       "11006  12/6/2010 14:31       0.42     13030.0  United Kingdom  \n",
       "12251  12/6/2010 14:31       0.42     13030.0  United Kingdom  "
      ]
     },
     "execution_count": 40,
     "metadata": {},
     "output_type": "execute_result"
    }
   ],
   "source": [
    "df[df[\"InvoiceNo\"] == \"537399\"]"
   ]
  },
  {
   "cell_type": "code",
   "execution_count": 51,
   "id": "5b88d3da-3d41-4ff2-87f4-2d2650f76f84",
   "metadata": {},
   "outputs": [],
   "source": [
    "date_pattern = \"^([0]{0,1}[1-9]|1[012])\\/([1-9]|([012][0-9])|(3[01]))\\/((\\d\\d\\d\\d)) [012]{0,1}[0-9]:[0-6][0-9]$\"\n",
    "booldf=~df['InvoiceDate'].str.match(date_pattern)\n",
    "comment=\"La date est incorrecte\"; name = \"Date\""
   ]
  },
  {
   "cell_type": "code",
   "execution_count": 55,
   "id": "2b4de353-e684-4ee9-badc-1e91f403bf30",
   "metadata": {},
   "outputs": [
    {
     "data": {
      "text/plain": [
       "False"
      ]
     },
     "execution_count": 55,
     "metadata": {},
     "output_type": "execute_result"
    }
   ],
   "source": [
    "True in booldf"
   ]
  },
  {
   "cell_type": "code",
   "execution_count": 57,
   "id": "fc7ecd54-acee-49e7-bdde-8d38729c4bc3",
   "metadata": {},
   "outputs": [
    {
     "data": {
      "text/plain": [
       "0        False\n",
       "1        False\n",
       "2        False\n",
       "3        False\n",
       "4        False\n",
       "         ...  \n",
       "12290    False\n",
       "12291    False\n",
       "12292    False\n",
       "12293    False\n",
       "12294    False\n",
       "Name: InvoiceDate, Length: 12295, dtype: bool"
      ]
     },
     "execution_count": 57,
     "metadata": {},
     "output_type": "execute_result"
    }
   ],
   "source": [
    "booldf"
   ]
  },
  {
   "cell_type": "markdown",
   "id": "619589b9-cbb9-4fba-b645-0f5d961b4e5a",
   "metadata": {},
   "source": [
    "# 4"
   ]
  },
  {
   "cell_type": "code",
   "execution_count": 5,
   "id": "8666fb27-3fec-4745-91df-bafe8daa0ceb",
   "metadata": {},
   "outputs": [],
   "source": [
    "import pandas as pd\n",
    "dataframe = pd.read_csv('../data/rData.csv', encoding=\"unicode_escape\")"
   ]
  },
  {
   "cell_type": "code",
   "execution_count": 6,
   "id": "65ca8a23-9929-4101-a896-d60592fb0321",
   "metadata": {},
   "outputs": [
    {
     "data": {
      "text/plain": [
       "12295"
      ]
     },
     "execution_count": 6,
     "metadata": {},
     "output_type": "execute_result"
    }
   ],
   "source": [
    "dataframe.shape[0]"
   ]
  },
  {
   "cell_type": "code",
   "execution_count": 14,
   "id": "babe857a-2cc4-421c-b6e5-2b39357586f9",
   "metadata": {},
   "outputs": [],
   "source": [
    "    ltype = \"\"\n",
    "    for c, n in zip(range(0, dataframe.shape[1]), dataframe.columns.values):\n",
    "        ltype += str(n) + \": \" + str(type(dataframe._get_value(0,c, takeable=True))) + \"\\n\""
   ]
  },
  {
   "cell_type": "code",
   "execution_count": 15,
   "id": "63418480-9d5a-43d2-8960-3fd247dfb75f",
   "metadata": {},
   "outputs": [
    {
     "data": {
      "text/plain": [
       "\"InvoiceNo: <class 'str'>\\nStockCode: <class 'str'>\\nDescription: <class 'str'>\\nQuantity: <class 'numpy.int64'>\\nInvoiceDate: <class 'str'>\\nUnitPrice: <class 'numpy.float64'>\\nCustomerID: <class 'numpy.float64'>\\nCountry: <class 'str'>\\n\""
      ]
     },
     "execution_count": 15,
     "metadata": {},
     "output_type": "execute_result"
    }
   ],
   "source": [
    "ltype"
   ]
  },
  {
   "cell_type": "code",
   "execution_count": 39,
   "id": "f6267e99-3e01-4605-8984-c58bc4f1dc88",
   "metadata": {},
   "outputs": [
    {
     "data": {
      "text/plain": [
       "\"InvoiceNo:  'str'>\\nStockCode:  'str'>\\nDescription:  'str'>\\nQuantity:  'numpy.int64'>\\nInvoiceDate:  'str'>\\nUnitPrice:  'numpy.float64'>\\nCustomerID:  'numpy.float64'>\\nCountry:  'str'>\\n\""
      ]
     },
     "execution_count": 39,
     "metadata": {},
     "output_type": "execute_result"
    }
   ],
   "source": [
    "import re\n",
    "re.sub(\"[<>]class\", '', ltype)"
   ]
  },
  {
   "cell_type": "code",
   "execution_count": null,
   "id": "2fe10e38-7266-4ee8-b9ec-82e589f77f84",
   "metadata": {},
   "outputs": [],
   "source": []
  },
  {
   "cell_type": "code",
   "execution_count": null,
   "id": "27d952b7-a3cf-4c56-a818-f5f5616d7901",
   "metadata": {},
   "outputs": [],
   "source": []
  }
 ],
 "metadata": {
  "kernelspec": {
   "display_name": "Python 3 (ipykernel)",
   "language": "python",
   "name": "python3"
  },
  "language_info": {
   "codemirror_mode": {
    "name": "ipython",
    "version": 3
   },
   "file_extension": ".py",
   "mimetype": "text/x-python",
   "name": "python",
   "nbconvert_exporter": "python",
   "pygments_lexer": "ipython3",
   "version": "3.10.5"
  }
 },
 "nbformat": 4,
 "nbformat_minor": 5
}
